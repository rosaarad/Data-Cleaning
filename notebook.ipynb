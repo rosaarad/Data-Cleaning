{
 "cells": [
  {
   "cell_type": "markdown",
   "metadata": {},
   "source": [
    "<!DOCTYPE html>\n",
    "<html lang=\"en\">\n",
    "<head>\n",
    "<meta charset=\"UTF-8\">\n",
    "<meta name=\"viewport\" content=\"width=device-width, initial-scale=1.0\">\n",
    "</head>\n",
    "<body>\n",
    "\n",
    "<div style=\"text-align: center;\">\n",
    "    <img src=\"micromaster.png\" width=170 alt=\"micromaster_logo\">\n",
    "    <br>\n",
    "<font face=\"Times New Roman\">\n",
    "<div dir=ltr align=center>\n",
    "<font color=0F5298 size=6>\n",
    "    <b>Sharif Micromaster</b>\n",
    "     <br>\n",
    "<font color=0F5298 size=6>\n",
    "   Programming For Data Analysis ~ Winter 2024\n",
    "  <br>\n",
    "<font color=606060 size=5>\n",
    "    Assignment 4: Introduction to Pandas, Matplotlib, Seaborn \n",
    "</div>\n",
    "</body>\n",
    "</html>\n",
    "<hr>"
   ]
  },
  {
   "cell_type": "markdown",
   "metadata": {},
   "source": [
    "<div><font face=\"Times New Roman\" size=6><div dir=ltr align=left><font color=686880 size=4>\n",
    "    Name: Rosa Adib Rad\n",
    "    <br>\n",
    "    No.: 0905730708"
   ]
  },
  {
   "cell_type": "markdown",
   "metadata": {
    "id": "n36HI7Oa3_4M",
    "jp-MarkdownHeadingCollapsed": true
   },
   "source": [
    "## Notebook Content\n",
    "0. [Introduction](#Introduction)\n",
    "1. [Importing Libraries](#importing-libraries)\n",
    "2. [Loading Dataset](#loading-dataset)\n",
    "3. [Basic Understanding of Dataset](#basic-understanding-of-dataset)\n",
    "4. [Exploratory Data Analysis](#exploratory-data-analysis)\n",
    "5. [Feature Engineering](#feature-engineering)\n",
    "6. [Data Pre-Processing](#data-pre-processing)"
   ]
  },
  {
   "cell_type": "markdown",
   "metadata": {},
   "source": [
    "# Introduction\n",
    "This project aims to perform data preparation and initial analysis on a real estate dataset. The dataset includes information about properties from both sales and rental listings, sourced from various sources. The goal is to gain insights into the characteristics of the real estate market and prepare the data for further analysis or modeling.\n",
    "\n",
    "### **Project Steps**\n",
    "\n",
    "1. Data Loading and Inspection\n",
    "   - **Data Collection**: Real estate data is collected from multiple sources, including online listings and databases.\n",
    "   - **Initial Inspection**: The structure and basic characteristics of the dataset are examined, including the number of records, columns, and data types.\n",
    "\n",
    "\n",
    "2. Data Preprocessing\n",
    "   - **Duplicate Data Removal**: Any duplicate records in the dataset are identified and removed to ensure data integrity.\n",
    "   - **Data Type Identification**: The data types of columns are determined, and appropriate conversions are made if necessary.\n",
    "   - **Missing Data Handling**: Missing values in the dataset are addressed through imputation or removal, depending on the context.\n",
    "   - **Outlier Detection**: Outliers in the data, which may skew analysis results, are identified and processed using statistical methods.\n",
    "   - **Feature Engineering**: New features are created based on existing ones to enhance the predictive power of the dataset.\n",
    "\n",
    "\n",
    "3. Data Analysis and Exploration\n",
    "   - **Correlation Analysis**: Relationships between different variables in the dataset are explored using correlation matrices and visualizations.\n",
    "   - **Distribution Analysis**: The distribution of key variables, such as price and area, is examined to understand their patterns and characteristics.\n",
    "   - **Visualization**: Various plots and charts are created to visualize the data and gain insights into underlying trends and patterns.\n",
    "\n",
    "\n",
    "4. Data Modeling Preparation\n",
    "   - **Feature Selection**: Relevant features for modeling are selected based on their importance and contribution to the target variable.\n",
    "   - **Data Splitting**: The dataset is divided into training and testing sets to facilitate model training and evaluation.\n",
    "\n",
    "\n",
    "5. Conclusion\n",
    "   - This project serves as a foundational step in the analysis of real estate data. By preparing the dataset and performing initial exploratory analysis, it sets the stage for further analysis or modeling tasks. The insights gained from this project can be used by stakeholders in the real estate industry for decision-making and strategic planning.\n"
   ]
  },
  {
   "cell_type": "markdown",
   "metadata": {},
   "source": [
    "### Importing Libraries\n"
   ]
  },
  {
   "cell_type": "code",
   "execution_count": 1,
   "metadata": {},
   "outputs": [],
   "source": [
    "# TODO: Import Required libraries\n",
    "import numpy as np\n",
    "import pandas as pd\n",
    "import seaborn as sns\n",
    "import matplotlib.pyplot as plt"
   ]
  },
  {
   "cell_type": "markdown",
   "metadata": {},
   "source": [
    "### Loading Dataset"
   ]
  },
  {
   "cell_type": "code",
   "execution_count": 2,
   "metadata": {},
   "outputs": [],
   "source": [
    "# TODO: Load dataset.csv \n",
    "data = pd.read_csv(\"dataset.csv\")"
   ]
  },
  {
   "cell_type": "markdown",
   "metadata": {},
   "source": [
    "## Basic Understanding of Dataset"
   ]
  },
  {
   "cell_type": "code",
   "execution_count": 3,
   "metadata": {},
   "outputs": [
    {
     "data": {
      "text/plain": [
       "(3479, 8)"
      ]
     },
     "execution_count": 3,
     "metadata": {},
     "output_type": "execute_result"
    }
   ],
   "source": [
    "# TODO: Print Shape of our Dataset\n",
    "data.shape"
   ]
  },
  {
   "cell_type": "code",
   "execution_count": 4,
   "metadata": {},
   "outputs": [
    {
     "data": {
      "text/plain": [
       "Index(['Area', 'Room', 'Parking', 'Warehouse', 'Elevator', 'Address', 'Price',\n",
       "       'Price(USD)'],\n",
       "      dtype='object')"
      ]
     },
     "execution_count": 4,
     "metadata": {},
     "output_type": "execute_result"
    }
   ],
   "source": [
    "# TODO: Print Columns of Dataset\n",
    "data.columns"
   ]
  },
  {
   "cell_type": "code",
   "execution_count": 5,
   "metadata": {},
   "outputs": [
    {
     "data": {
      "text/html": [
       "<div>\n",
       "<style scoped>\n",
       "    .dataframe tbody tr th:only-of-type {\n",
       "        vertical-align: middle;\n",
       "    }\n",
       "\n",
       "    .dataframe tbody tr th {\n",
       "        vertical-align: top;\n",
       "    }\n",
       "\n",
       "    .dataframe thead th {\n",
       "        text-align: right;\n",
       "    }\n",
       "</style>\n",
       "<table border=\"1\" class=\"dataframe\">\n",
       "  <thead>\n",
       "    <tr style=\"text-align: right;\">\n",
       "      <th></th>\n",
       "      <th>Area</th>\n",
       "      <th>Room</th>\n",
       "      <th>Parking</th>\n",
       "      <th>Warehouse</th>\n",
       "      <th>Elevator</th>\n",
       "      <th>Address</th>\n",
       "      <th>Price</th>\n",
       "      <th>Price(USD)</th>\n",
       "    </tr>\n",
       "  </thead>\n",
       "  <tbody>\n",
       "    <tr>\n",
       "      <th>0</th>\n",
       "      <td>63</td>\n",
       "      <td>1</td>\n",
       "      <td>True</td>\n",
       "      <td>True</td>\n",
       "      <td>True</td>\n",
       "      <td>Shahran</td>\n",
       "      <td>1.850000e+09</td>\n",
       "      <td>61666.67</td>\n",
       "    </tr>\n",
       "    <tr>\n",
       "      <th>1</th>\n",
       "      <td>60</td>\n",
       "      <td>1</td>\n",
       "      <td>True</td>\n",
       "      <td>True</td>\n",
       "      <td>True</td>\n",
       "      <td>Shahran</td>\n",
       "      <td>1.850000e+09</td>\n",
       "      <td>61666.67</td>\n",
       "    </tr>\n",
       "    <tr>\n",
       "      <th>2</th>\n",
       "      <td>79</td>\n",
       "      <td>2</td>\n",
       "      <td>True</td>\n",
       "      <td>True</td>\n",
       "      <td>True</td>\n",
       "      <td>Pardis</td>\n",
       "      <td>5.500000e+08</td>\n",
       "      <td>18333.33</td>\n",
       "    </tr>\n",
       "    <tr>\n",
       "      <th>3</th>\n",
       "      <td>95</td>\n",
       "      <td>2</td>\n",
       "      <td>True</td>\n",
       "      <td>True</td>\n",
       "      <td>True</td>\n",
       "      <td>Shahrake Qods</td>\n",
       "      <td>9.025000e+08</td>\n",
       "      <td>30083.33</td>\n",
       "    </tr>\n",
       "    <tr>\n",
       "      <th>4</th>\n",
       "      <td>123</td>\n",
       "      <td>2</td>\n",
       "      <td>True</td>\n",
       "      <td>True</td>\n",
       "      <td>True</td>\n",
       "      <td>Shahrake Gharb</td>\n",
       "      <td>7.000000e+09</td>\n",
       "      <td>233333.33</td>\n",
       "    </tr>\n",
       "  </tbody>\n",
       "</table>\n",
       "</div>"
      ],
      "text/plain": [
       "  Area  Room  Parking  Warehouse  Elevator         Address         Price  \\\n",
       "0   63     1     True       True      True         Shahran  1.850000e+09   \n",
       "1   60     1     True       True      True         Shahran  1.850000e+09   \n",
       "2   79     2     True       True      True          Pardis  5.500000e+08   \n",
       "3   95     2     True       True      True   Shahrake Qods  9.025000e+08   \n",
       "4  123     2     True       True      True  Shahrake Gharb  7.000000e+09   \n",
       "\n",
       "   Price(USD)  \n",
       "0    61666.67  \n",
       "1    61666.67  \n",
       "2    18333.33  \n",
       "3    30083.33  \n",
       "4   233333.33  "
      ]
     },
     "execution_count": 5,
     "metadata": {},
     "output_type": "execute_result"
    }
   ],
   "source": [
    "# TODO: Print first 5 rows of the dataset\n",
    "data.head()"
   ]
  },
  {
   "cell_type": "code",
   "execution_count": 6,
   "metadata": {},
   "outputs": [
    {
     "data": {
      "text/html": [
       "<div>\n",
       "<style scoped>\n",
       "    .dataframe tbody tr th:only-of-type {\n",
       "        vertical-align: middle;\n",
       "    }\n",
       "\n",
       "    .dataframe tbody tr th {\n",
       "        vertical-align: top;\n",
       "    }\n",
       "\n",
       "    .dataframe thead th {\n",
       "        text-align: right;\n",
       "    }\n",
       "</style>\n",
       "<table border=\"1\" class=\"dataframe\">\n",
       "  <thead>\n",
       "    <tr style=\"text-align: right;\">\n",
       "      <th></th>\n",
       "      <th>Area</th>\n",
       "      <th>Room</th>\n",
       "      <th>Parking</th>\n",
       "      <th>Warehouse</th>\n",
       "      <th>Elevator</th>\n",
       "      <th>Address</th>\n",
       "      <th>Price</th>\n",
       "      <th>Price(USD)</th>\n",
       "    </tr>\n",
       "  </thead>\n",
       "  <tbody>\n",
       "    <tr>\n",
       "      <th>3474</th>\n",
       "      <td>86</td>\n",
       "      <td>2</td>\n",
       "      <td>True</td>\n",
       "      <td>True</td>\n",
       "      <td>True</td>\n",
       "      <td>Southern Janatabad</td>\n",
       "      <td>3.500000e+09</td>\n",
       "      <td>116666.67</td>\n",
       "    </tr>\n",
       "    <tr>\n",
       "      <th>3475</th>\n",
       "      <td>83</td>\n",
       "      <td>2</td>\n",
       "      <td>True</td>\n",
       "      <td>True</td>\n",
       "      <td>True</td>\n",
       "      <td>Niavaran</td>\n",
       "      <td>6.800000e+09</td>\n",
       "      <td>226666.67</td>\n",
       "    </tr>\n",
       "    <tr>\n",
       "      <th>3476</th>\n",
       "      <td>75</td>\n",
       "      <td>2</td>\n",
       "      <td>False</td>\n",
       "      <td>False</td>\n",
       "      <td>False</td>\n",
       "      <td>Parand</td>\n",
       "      <td>3.650000e+08</td>\n",
       "      <td>12166.67</td>\n",
       "    </tr>\n",
       "    <tr>\n",
       "      <th>3477</th>\n",
       "      <td>105</td>\n",
       "      <td>2</td>\n",
       "      <td>True</td>\n",
       "      <td>True</td>\n",
       "      <td>True</td>\n",
       "      <td>Dorous</td>\n",
       "      <td>5.600000e+09</td>\n",
       "      <td>186666.67</td>\n",
       "    </tr>\n",
       "    <tr>\n",
       "      <th>3478</th>\n",
       "      <td>82</td>\n",
       "      <td>2</td>\n",
       "      <td>False</td>\n",
       "      <td>True</td>\n",
       "      <td>True</td>\n",
       "      <td>Parand</td>\n",
       "      <td>3.600000e+08</td>\n",
       "      <td>12000.00</td>\n",
       "    </tr>\n",
       "  </tbody>\n",
       "</table>\n",
       "</div>"
      ],
      "text/plain": [
       "     Area  Room  Parking  Warehouse  Elevator             Address  \\\n",
       "3474   86     2     True       True      True  Southern Janatabad   \n",
       "3475   83     2     True       True      True            Niavaran   \n",
       "3476   75     2    False      False     False              Parand   \n",
       "3477  105     2     True       True      True              Dorous   \n",
       "3478   82     2    False       True      True              Parand   \n",
       "\n",
       "             Price  Price(USD)  \n",
       "3474  3.500000e+09   116666.67  \n",
       "3475  6.800000e+09   226666.67  \n",
       "3476  3.650000e+08    12166.67  \n",
       "3477  5.600000e+09   186666.67  \n",
       "3478  3.600000e+08    12000.00  "
      ]
     },
     "execution_count": 6,
     "metadata": {},
     "output_type": "execute_result"
    }
   ],
   "source": [
    "# TODO: Print last 5 rows of the dataset\n",
    "data.tail()"
   ]
  },
  {
   "cell_type": "code",
   "execution_count": 7,
   "metadata": {},
   "outputs": [
    {
     "name": "stdout",
     "output_type": "stream",
     "text": [
      "Number of duplicated values (True) and non duplicated values( False):\n",
      " False    3271\n",
      "True      208\n",
      "Name: count, dtype: int64\n",
      "Index of duplicated values:\n",
      "      Area  Room  Parking  Warehouse  Elevator            Address  \\\n",
      "55     61     1     True       True     False              Punak   \n",
      "78     74     2     True       True      True            Amirieh   \n",
      "79     88     3    False      False      True             Parand   \n",
      "80     63     1     True       True      True              Punak   \n",
      "81    114     3     True       True      True         Sattarkhan   \n",
      "...   ...   ...      ...        ...       ...                ...   \n",
      "3449   80     2     True       True      True              Punak   \n",
      "3451   88     2     True       True      True  Central Janatabad   \n",
      "3459   80     2     True       True      True        Ostad Moein   \n",
      "3461   55     1     True       True      True              Punak   \n",
      "3476   75     2    False      False     False             Parand   \n",
      "\n",
      "             Price  Price(USD)  \n",
      "55    2.030000e+09    67666.67  \n",
      "78    1.700000e+09    56666.67  \n",
      "79    5.600000e+08    18666.67  \n",
      "80    2.150000e+09    71666.67  \n",
      "81    5.500000e+09   183333.33  \n",
      "...            ...         ...  \n",
      "3449  3.760000e+09   125333.33  \n",
      "3451  4.000000e+09   133333.33  \n",
      "3459  2.250000e+09    75000.00  \n",
      "3461  2.300000e+09    76666.67  \n",
      "3476  3.650000e+08    12166.67  \n",
      "\n",
      "[208 rows x 8 columns]\n",
      "\n",
      "\n",
      "The percentage of Duplicated:  5.978729519977005\n"
     ]
    }
   ],
   "source": [
    "# TODO: Number of Duplicated in our dataset\n",
    "data[data.duplicated()]\n",
    "print(\"Number of duplicated values (True) and non duplicated values( False):\\n\", data.duplicated().value_counts())\n",
    "print(\"Index of duplicated values:\\n\", data.loc[data.duplicated()])\n",
    "# TODO: The percentage of Duplicated in our dataset\n",
    "print(\"\\n\\nThe percentage of Duplicated: \", data.duplicated().sum() / data.shape[0] * 100)"
   ]
  },
  {
   "cell_type": "code",
   "execution_count": 8,
   "metadata": {},
   "outputs": [
    {
     "data": {
      "text/plain": [
       "Area           object\n",
       "Room            int64\n",
       "Parking          bool\n",
       "Warehouse        bool\n",
       "Elevator         bool\n",
       "Address        object\n",
       "Price         float64\n",
       "Price(USD)    float64\n",
       "dtype: object"
      ]
     },
     "execution_count": 8,
     "metadata": {},
     "output_type": "execute_result"
    }
   ],
   "source": [
    "# TODO: Types of our Columns in Dataset\n",
    "data.dtypes"
   ]
  },
  {
   "cell_type": "markdown",
   "metadata": {},
   "source": [
    "**Description**<br>\n",
    "\n",
    "* Except Area feature , all of them have right type . we have to change its type later .<br>\n"
   ]
  },
  {
   "cell_type": "code",
   "execution_count": 9,
   "metadata": {},
   "outputs": [
    {
     "name": "stdout",
     "output_type": "stream",
     "text": [
      "Number of missing values:\n",
      " Area           0\n",
      "Room           0\n",
      "Parking        0\n",
      "Warehouse      0\n",
      "Elevator       0\n",
      "Address       23\n",
      "Price          0\n",
      "Price(USD)     0\n",
      "dtype: int64\n",
      "\n",
      "\n",
      "The percentage of missing values:\n",
      " Area          0.00000\n",
      "Room          0.00000\n",
      "Parking       0.00000\n",
      "Warehouse     0.00000\n",
      "Elevator      0.00000\n",
      "Address       0.66111\n",
      "Price         0.00000\n",
      "Price(USD)    0.00000\n",
      "dtype: float64\n"
     ]
    }
   ],
   "source": [
    "# TODO: Print the number of missing values in our Dataset for each Column\n",
    "print(\"Number of missing values:\\n\", data.isna().sum())\n",
    "print(\"\\n\\nThe percentage of missing values:\\n\", data.isna().sum() / data.shape[0] * 100)"
   ]
  },
  {
   "cell_type": "markdown",
   "metadata": {},
   "source": [
    "**Description**<br>\n",
    "\n",
    "* Due to Address feature plays an important role and it must be exact, we can't replace missing values with anything.\n",
    "* Consequently, we will drop those missing values later."
   ]
  },
  {
   "cell_type": "code",
   "execution_count": 10,
   "metadata": {},
   "outputs": [
    {
     "name": "stdout",
     "output_type": "stream",
     "text": [
      "The number of unique values of each column is:\n",
      "Area 243\n",
      "Room 6\n",
      "Parking 2\n",
      "Warehouse 2\n",
      "Elevator 2\n",
      "Address 193\n",
      "Price 934\n",
      "Price(USD) 932\n"
     ]
    }
   ],
   "source": [
    "# TODO: Print the cardinality of our Columns\n",
    "print(\"The number of unique values of each column is:\")\n",
    "for col in data:\n",
    "    print(col, len(data[col].unique()))"
   ]
  },
  {
   "cell_type": "markdown",
   "metadata": {},
   "source": [
    "## Exploratory Data Analysis"
   ]
  },
  {
   "cell_type": "code",
   "execution_count": 11,
   "metadata": {},
   "outputs": [
    {
     "data": {
      "text/plain": [
       "<Axes: xlabel='Price(USD)', ylabel='Count'>"
      ]
     },
     "execution_count": 11,
     "metadata": {},
     "output_type": "execute_result"
    },
    {
     "data": {
      "image/png": "[encoded data removed]",
      "text/plain": [
       "<Figure size 640x480 with 1 Axes>"
      ]
     },
     "metadata": {},
     "output_type": "display_data"
    }
   ],
   "source": [
    "# TODO: Plot the distribution of prices from the dataset using a histogram with kernel density estimation enabled, specifying a palette and setting the number of bins to 100.\n",
    "sns.histplot(x='Price(USD)',data=data , bins=100, kde=True)"
   ]
  },
  {
   "cell_type": "markdown",
   "metadata": {},
   "source": [
    "**Description**<br>\n",
    "\n",
    "* Most houses have roughly close price in one third of the first part\n",
    "* Outliers are obvious now(on the right side)"
   ]
  },
  {
   "cell_type": "code",
   "execution_count": 12,
   "metadata": {},
   "outputs": [
    {
     "data": {
      "text/plain": [
       "<Axes: xlabel='Room', ylabel='Count'>"
      ]
     },
     "execution_count": 12,
     "metadata": {},
     "output_type": "execute_result"
    },
    {
     "data": {
      "image/png": "[encoded data removed]",
      "text/plain": [
       "<Figure size 640x480 with 1 Axes>"
      ]
     },
     "metadata": {},
     "output_type": "display_data"
    }
   ],
   "source": [
    "# TODO: Visualize the distribution of the number of rooms (Room) from the dataset using a histogram.\n",
    "sns.histplot(x='Room',data=data)"
   ]
  },
  {
   "cell_type": "markdown",
   "metadata": {},
   "source": [
    "**Description**<br>\n",
    "\n",
    "* About 2000 houses have exactly 2 rooms (most houses) \n",
    "* Distribution of 1 and 3 rooms are roughly the same (a little more 3 rooms)\n",
    "* we have not many houses with 4 or 5 rooms (in total about 150 houses)\n",
    "* houses without room is rarely seen \n",
    "\n",
    "**Conclusion**\n",
    "* Mean of rooms is roughly 2."
   ]
  },
  {
   "cell_type": "code",
   "execution_count": 13,
   "metadata": {},
   "outputs": [
    {
     "data": {
      "text/plain": [
       "<Axes: xlabel='Elevator', ylabel='count'>"
      ]
     },
     "execution_count": 13,
     "metadata": {},
     "output_type": "execute_result"
    },
    {
     "data": {
      "image/png": "[encoded data removed]",
      "text/plain": [
       "<Figure size 640x480 with 4 Axes>"
      ]
     },
     "metadata": {},
     "output_type": "display_data"
    }
   ],
   "source": [
    "# TODO: Create subplots to visualize the distribution of boolean columns ('Parking', 'Warehouse', 'Elevator') from the dataset using countplots.\n",
    "fig, axes = plt.subplots(2, 2)\n",
    "fig.subplots_adjust(hspace=0.5, wspace=0.5)\n",
    "sns.countplot(data, x=\"Parking\", ax=axes[0,0])\n",
    "sns.countplot(data, x=\"Warehouse\", ax=axes[0,1])\n",
    "sns.countplot(data, x=\"Elevator\", ax=axes[1,0])"
   ]
  },
  {
   "cell_type": "markdown",
   "metadata": {},
   "source": [
    "**Description**<br>\n",
    "\n",
    "* Most houses have Parking , Warehouse and Elevator (all these three features )\n",
    "* Most houses have Warehouse.(houses without warehouse are very low)\n",
    "* Those houses without Parking and Elevator have the same distribution(less than 1000 more than 500)\n"
   ]
  },
  {
   "cell_type": "markdown",
   "metadata": {},
   "source": [
    "## Feature Engineering"
   ]
  },
  {
   "cell_type": "code",
   "execution_count": 14,
   "metadata": {},
   "outputs": [
    {
     "name": "stdout",
     "output_type": "stream",
     "text": [
      "<class 'pandas.core.frame.DataFrame'>\n",
      "RangeIndex: 3479 entries, 0 to 3478\n",
      "Data columns (total 8 columns):\n",
      " #   Column      Non-Null Count  Dtype  \n",
      "---  ------      --------------  -----  \n",
      " 0   Area        3479 non-null   object \n",
      " 1   Room        3479 non-null   int64  \n",
      " 2   Parking     3479 non-null   bool   \n",
      " 3   Warehouse   3479 non-null   bool   \n",
      " 4   Elevator    3479 non-null   bool   \n",
      " 5   Address     3456 non-null   object \n",
      " 6   Price       3479 non-null   float64\n",
      " 7   Price(USD)  3479 non-null   float64\n",
      "dtypes: bool(3), float64(2), int64(1), object(2)\n",
      "memory usage: 146.2+ KB\n"
     ]
    }
   ],
   "source": [
    "# TODO: Display the data types of columns in the dataset.\n",
    "data.info()"
   ]
  },
  {
   "cell_type": "markdown",
   "metadata": {},
   "source": [
    "**Description**<br>\n",
    "\n",
    "The type of Area must be changed if we want to show and do feature engineering .<br>\n",
    "\n",
    "To be possible to change its type we need to remove comma between numbers than we are capable changing its type.\n"
   ]
  },
  {
   "cell_type": "code",
   "execution_count": 15,
   "metadata": {},
   "outputs": [],
   "source": [
    "# TODO: Remove commas from the 'Area' column and convert it to numeric data type.\n",
    "import warnings, math\n",
    "with warnings.catch_warnings():\n",
    "    warnings.simplefilter('ignore')\n",
    "    for i in range(data.shape[0]):\n",
    "        d = data['Area'].loc[i].split(',')\n",
    "        data['Area'].loc[i] = float(''.join(d).strip())"
   ]
  },
  {
   "cell_type": "code",
   "execution_count": 16,
   "metadata": {},
   "outputs": [
    {
     "data": {
      "text/plain": [
       "count     3479.0\n",
       "unique     243.0\n",
       "top         75.0\n",
       "freq       111.0\n",
       "Name: Area, dtype: float64"
      ]
     },
     "execution_count": 16,
     "metadata": {},
     "output_type": "execute_result"
    }
   ],
   "source": [
    "# TODO: Generate descriptive statistics for the 'Area' column in the dataset.\n",
    "data['Area'].describe()"
   ]
  },
  {
   "cell_type": "markdown",
   "metadata": {},
   "source": [
    "**Description**<br>\n",
    "\n",
    "We are going to divide Area feature to 4 category : Small(0-30) - AveUnderMean(30-90) - AveUpperMean(90-120)- High(120-...)\n",
    "\n",
    "except these features other will be replaced to nan values"
   ]
  },
  {
   "cell_type": "code",
   "execution_count": 17,
   "metadata": {},
   "outputs": [
    {
     "data": {
      "text/html": [
       "<div>\n",
       "<style scoped>\n",
       "    .dataframe tbody tr th:only-of-type {\n",
       "        vertical-align: middle;\n",
       "    }\n",
       "\n",
       "    .dataframe tbody tr th {\n",
       "        vertical-align: top;\n",
       "    }\n",
       "\n",
       "    .dataframe thead th {\n",
       "        text-align: right;\n",
       "    }\n",
       "</style>\n",
       "<table border=\"1\" class=\"dataframe\">\n",
       "  <thead>\n",
       "    <tr style=\"text-align: right;\">\n",
       "      <th></th>\n",
       "      <th>Area</th>\n",
       "      <th>Room</th>\n",
       "      <th>Parking</th>\n",
       "      <th>Warehouse</th>\n",
       "      <th>Elevator</th>\n",
       "      <th>Address</th>\n",
       "      <th>Price</th>\n",
       "      <th>Price(USD)</th>\n",
       "      <th>AreaSize</th>\n",
       "    </tr>\n",
       "  </thead>\n",
       "  <tbody>\n",
       "    <tr>\n",
       "      <th>0</th>\n",
       "      <td>63.0</td>\n",
       "      <td>1</td>\n",
       "      <td>True</td>\n",
       "      <td>True</td>\n",
       "      <td>True</td>\n",
       "      <td>Shahran</td>\n",
       "      <td>1.850000e+09</td>\n",
       "      <td>61666.67</td>\n",
       "      <td>AveUnderMean</td>\n",
       "    </tr>\n",
       "    <tr>\n",
       "      <th>1</th>\n",
       "      <td>60.0</td>\n",
       "      <td>1</td>\n",
       "      <td>True</td>\n",
       "      <td>True</td>\n",
       "      <td>True</td>\n",
       "      <td>Shahran</td>\n",
       "      <td>1.850000e+09</td>\n",
       "      <td>61666.67</td>\n",
       "      <td>AveUnderMean</td>\n",
       "    </tr>\n",
       "    <tr>\n",
       "      <th>2</th>\n",
       "      <td>79.0</td>\n",
       "      <td>2</td>\n",
       "      <td>True</td>\n",
       "      <td>True</td>\n",
       "      <td>True</td>\n",
       "      <td>Pardis</td>\n",
       "      <td>5.500000e+08</td>\n",
       "      <td>18333.33</td>\n",
       "      <td>AveUnderMean</td>\n",
       "    </tr>\n",
       "    <tr>\n",
       "      <th>3</th>\n",
       "      <td>95.0</td>\n",
       "      <td>2</td>\n",
       "      <td>True</td>\n",
       "      <td>True</td>\n",
       "      <td>True</td>\n",
       "      <td>Shahrake Qods</td>\n",
       "      <td>9.025000e+08</td>\n",
       "      <td>30083.33</td>\n",
       "      <td>AveUpperMean</td>\n",
       "    </tr>\n",
       "    <tr>\n",
       "      <th>4</th>\n",
       "      <td>123.0</td>\n",
       "      <td>2</td>\n",
       "      <td>True</td>\n",
       "      <td>True</td>\n",
       "      <td>True</td>\n",
       "      <td>Shahrake Gharb</td>\n",
       "      <td>7.000000e+09</td>\n",
       "      <td>233333.33</td>\n",
       "      <td>High</td>\n",
       "    </tr>\n",
       "    <tr>\n",
       "      <th>...</th>\n",
       "      <td>...</td>\n",
       "      <td>...</td>\n",
       "      <td>...</td>\n",
       "      <td>...</td>\n",
       "      <td>...</td>\n",
       "      <td>...</td>\n",
       "      <td>...</td>\n",
       "      <td>...</td>\n",
       "      <td>...</td>\n",
       "    </tr>\n",
       "    <tr>\n",
       "      <th>3474</th>\n",
       "      <td>86.0</td>\n",
       "      <td>2</td>\n",
       "      <td>True</td>\n",
       "      <td>True</td>\n",
       "      <td>True</td>\n",
       "      <td>Southern Janatabad</td>\n",
       "      <td>3.500000e+09</td>\n",
       "      <td>116666.67</td>\n",
       "      <td>AveUnderMean</td>\n",
       "    </tr>\n",
       "    <tr>\n",
       "      <th>3475</th>\n",
       "      <td>83.0</td>\n",
       "      <td>2</td>\n",
       "      <td>True</td>\n",
       "      <td>True</td>\n",
       "      <td>True</td>\n",
       "      <td>Niavaran</td>\n",
       "      <td>6.800000e+09</td>\n",
       "      <td>226666.67</td>\n",
       "      <td>AveUnderMean</td>\n",
       "    </tr>\n",
       "    <tr>\n",
       "      <th>3476</th>\n",
       "      <td>75.0</td>\n",
       "      <td>2</td>\n",
       "      <td>False</td>\n",
       "      <td>False</td>\n",
       "      <td>False</td>\n",
       "      <td>Parand</td>\n",
       "      <td>3.650000e+08</td>\n",
       "      <td>12166.67</td>\n",
       "      <td>AveUnderMean</td>\n",
       "    </tr>\n",
       "    <tr>\n",
       "      <th>3477</th>\n",
       "      <td>105.0</td>\n",
       "      <td>2</td>\n",
       "      <td>True</td>\n",
       "      <td>True</td>\n",
       "      <td>True</td>\n",
       "      <td>Dorous</td>\n",
       "      <td>5.600000e+09</td>\n",
       "      <td>186666.67</td>\n",
       "      <td>AveUpperMean</td>\n",
       "    </tr>\n",
       "    <tr>\n",
       "      <th>3478</th>\n",
       "      <td>82.0</td>\n",
       "      <td>2</td>\n",
       "      <td>False</td>\n",
       "      <td>True</td>\n",
       "      <td>True</td>\n",
       "      <td>Parand</td>\n",
       "      <td>3.600000e+08</td>\n",
       "      <td>12000.00</td>\n",
       "      <td>AveUnderMean</td>\n",
       "    </tr>\n",
       "  </tbody>\n",
       "</table>\n",
       "<p>3479 rows × 9 columns</p>\n",
       "</div>"
      ],
      "text/plain": [
       "       Area  Room  Parking  Warehouse  Elevator             Address  \\\n",
       "0      63.0     1     True       True      True             Shahran   \n",
       "1      60.0     1     True       True      True             Shahran   \n",
       "2      79.0     2     True       True      True              Pardis   \n",
       "3      95.0     2     True       True      True       Shahrake Qods   \n",
       "4     123.0     2     True       True      True      Shahrake Gharb   \n",
       "...     ...   ...      ...        ...       ...                 ...   \n",
       "3474   86.0     2     True       True      True  Southern Janatabad   \n",
       "3475   83.0     2     True       True      True            Niavaran   \n",
       "3476   75.0     2    False      False     False              Parand   \n",
       "3477  105.0     2     True       True      True              Dorous   \n",
       "3478   82.0     2    False       True      True              Parand   \n",
       "\n",
       "             Price  Price(USD)      AreaSize  \n",
       "0     1.850000e+09    61666.67  AveUnderMean  \n",
       "1     1.850000e+09    61666.67  AveUnderMean  \n",
       "2     5.500000e+08    18333.33  AveUnderMean  \n",
       "3     9.025000e+08    30083.33  AveUpperMean  \n",
       "4     7.000000e+09   233333.33          High  \n",
       "...            ...         ...           ...  \n",
       "3474  3.500000e+09   116666.67  AveUnderMean  \n",
       "3475  6.800000e+09   226666.67  AveUnderMean  \n",
       "3476  3.650000e+08    12166.67  AveUnderMean  \n",
       "3477  5.600000e+09   186666.67  AveUpperMean  \n",
       "3478  3.600000e+08    12000.00  AveUnderMean  \n",
       "\n",
       "[3479 rows x 9 columns]"
      ]
     },
     "execution_count": 17,
     "metadata": {},
     "output_type": "execute_result"
    }
   ],
   "source": [
    "# TODO: Create a new feature 'AreaSize' based on the 'Area' column values, categorizing them as 'Small', 'AveUnderMean', 'AveUpperMean', or 'High'.\n",
    "AreaSize = []\n",
    "for i in range(data.shape[0]):\n",
    "    dtemp = data['Area'].loc[i]\n",
    "    \n",
    "    if dtemp>0 and dtemp<30:\n",
    "        AreaSize.append(\"Small\")\n",
    "        \n",
    "    elif dtemp>=30 and dtemp<90:\n",
    "        AreaSize.append(\"AveUnderMean\")\n",
    "        \n",
    "    elif dtemp>=90 and dtemp<120:\n",
    "        AreaSize.append(\"AveUpperMean\")\n",
    "        \n",
    "    else:\n",
    "        AreaSize.append(\"High\")\n",
    "\n",
    "data['AreaSize'] = AreaSize\n",
    "data"
   ]
  },
  {
   "cell_type": "code",
   "execution_count": 18,
   "metadata": {},
   "outputs": [
    {
     "data": {
      "text/plain": [
       "<Axes: xlabel='AreaSize', ylabel='count'>"
      ]
     },
     "execution_count": 18,
     "metadata": {},
     "output_type": "execute_result"
    },
    {
     "data": {
      "image/png": "[encoded data removed]",
      "text/plain": [
       "<Figure size 640x480 with 1 Axes>"
      ]
     },
     "metadata": {},
     "output_type": "display_data"
    }
   ],
   "source": [
    "# TODO: Visualize the distribution of the 'AreaSize' feature using a countplot.\n",
    "sns.countplot(data=data, x='AreaSize')"
   ]
  },
  {
   "cell_type": "markdown",
   "metadata": {},
   "source": [
    "**Description**<br>\n",
    "\n",
    "* As we can see  about half of houses have between 30-90 meters(m2)\n",
    "* Houses with 90-120 meters  have the same contribution with houses which have more than 120 meters\n",
    "* we can realize that right-skewed has happened.(outliers most are on the right part)\n",
    "* very low houeses are with less than 30 meters size.\n"
   ]
  },
  {
   "cell_type": "markdown",
   "metadata": {},
   "source": [
    "We are going to determine 4 level for Price feature : Cheap , AveUnderMean , AveUpperMean , Expensive <br>\n",
    "\n",
    "- `cheap` : 0-25% \n",
    "- `AveUnderMean` : 25%-50%\n",
    "- `AveUpperMean` : 50%-75%\n",
    "- `Expensive` : upper 75%"
   ]
  },
  {
   "cell_type": "code",
   "execution_count": 19,
   "metadata": {},
   "outputs": [
    {
     "data": {
      "text/html": [
       "<div>\n",
       "<style scoped>\n",
       "    .dataframe tbody tr th:only-of-type {\n",
       "        vertical-align: middle;\n",
       "    }\n",
       "\n",
       "    .dataframe tbody tr th {\n",
       "        vertical-align: top;\n",
       "    }\n",
       "\n",
       "    .dataframe thead th {\n",
       "        text-align: right;\n",
       "    }\n",
       "</style>\n",
       "<table border=\"1\" class=\"dataframe\">\n",
       "  <thead>\n",
       "    <tr style=\"text-align: right;\">\n",
       "      <th></th>\n",
       "      <th>Area</th>\n",
       "      <th>Room</th>\n",
       "      <th>Parking</th>\n",
       "      <th>Warehouse</th>\n",
       "      <th>Elevator</th>\n",
       "      <th>Address</th>\n",
       "      <th>Price</th>\n",
       "      <th>Price(USD)</th>\n",
       "      <th>AreaSize</th>\n",
       "      <th>PriceLevel</th>\n",
       "    </tr>\n",
       "  </thead>\n",
       "  <tbody>\n",
       "    <tr>\n",
       "      <th>0</th>\n",
       "      <td>63.0</td>\n",
       "      <td>1</td>\n",
       "      <td>True</td>\n",
       "      <td>True</td>\n",
       "      <td>True</td>\n",
       "      <td>Shahran</td>\n",
       "      <td>1.850000e+09</td>\n",
       "      <td>61666.67</td>\n",
       "      <td>AveUnderMean</td>\n",
       "      <td>AveUnderMean</td>\n",
       "    </tr>\n",
       "    <tr>\n",
       "      <th>1</th>\n",
       "      <td>60.0</td>\n",
       "      <td>1</td>\n",
       "      <td>True</td>\n",
       "      <td>True</td>\n",
       "      <td>True</td>\n",
       "      <td>Shahran</td>\n",
       "      <td>1.850000e+09</td>\n",
       "      <td>61666.67</td>\n",
       "      <td>AveUnderMean</td>\n",
       "      <td>AveUnderMean</td>\n",
       "    </tr>\n",
       "    <tr>\n",
       "      <th>2</th>\n",
       "      <td>79.0</td>\n",
       "      <td>2</td>\n",
       "      <td>True</td>\n",
       "      <td>True</td>\n",
       "      <td>True</td>\n",
       "      <td>Pardis</td>\n",
       "      <td>5.500000e+08</td>\n",
       "      <td>18333.33</td>\n",
       "      <td>AveUnderMean</td>\n",
       "      <td>cheap</td>\n",
       "    </tr>\n",
       "    <tr>\n",
       "      <th>3</th>\n",
       "      <td>95.0</td>\n",
       "      <td>2</td>\n",
       "      <td>True</td>\n",
       "      <td>True</td>\n",
       "      <td>True</td>\n",
       "      <td>Shahrake Qods</td>\n",
       "      <td>9.025000e+08</td>\n",
       "      <td>30083.33</td>\n",
       "      <td>AveUpperMean</td>\n",
       "      <td>cheap</td>\n",
       "    </tr>\n",
       "    <tr>\n",
       "      <th>4</th>\n",
       "      <td>123.0</td>\n",
       "      <td>2</td>\n",
       "      <td>True</td>\n",
       "      <td>True</td>\n",
       "      <td>True</td>\n",
       "      <td>Shahrake Gharb</td>\n",
       "      <td>7.000000e+09</td>\n",
       "      <td>233333.33</td>\n",
       "      <td>High</td>\n",
       "      <td>Expensive</td>\n",
       "    </tr>\n",
       "    <tr>\n",
       "      <th>...</th>\n",
       "      <td>...</td>\n",
       "      <td>...</td>\n",
       "      <td>...</td>\n",
       "      <td>...</td>\n",
       "      <td>...</td>\n",
       "      <td>...</td>\n",
       "      <td>...</td>\n",
       "      <td>...</td>\n",
       "      <td>...</td>\n",
       "      <td>...</td>\n",
       "    </tr>\n",
       "    <tr>\n",
       "      <th>3474</th>\n",
       "      <td>86.0</td>\n",
       "      <td>2</td>\n",
       "      <td>True</td>\n",
       "      <td>True</td>\n",
       "      <td>True</td>\n",
       "      <td>Southern Janatabad</td>\n",
       "      <td>3.500000e+09</td>\n",
       "      <td>116666.67</td>\n",
       "      <td>AveUnderMean</td>\n",
       "      <td>AveUpperMean</td>\n",
       "    </tr>\n",
       "    <tr>\n",
       "      <th>3475</th>\n",
       "      <td>83.0</td>\n",
       "      <td>2</td>\n",
       "      <td>True</td>\n",
       "      <td>True</td>\n",
       "      <td>True</td>\n",
       "      <td>Niavaran</td>\n",
       "      <td>6.800000e+09</td>\n",
       "      <td>226666.67</td>\n",
       "      <td>AveUnderMean</td>\n",
       "      <td>Expensive</td>\n",
       "    </tr>\n",
       "    <tr>\n",
       "      <th>3476</th>\n",
       "      <td>75.0</td>\n",
       "      <td>2</td>\n",
       "      <td>False</td>\n",
       "      <td>False</td>\n",
       "      <td>False</td>\n",
       "      <td>Parand</td>\n",
       "      <td>3.650000e+08</td>\n",
       "      <td>12166.67</td>\n",
       "      <td>AveUnderMean</td>\n",
       "      <td>cheap</td>\n",
       "    </tr>\n",
       "    <tr>\n",
       "      <th>3477</th>\n",
       "      <td>105.0</td>\n",
       "      <td>2</td>\n",
       "      <td>True</td>\n",
       "      <td>True</td>\n",
       "      <td>True</td>\n",
       "      <td>Dorous</td>\n",
       "      <td>5.600000e+09</td>\n",
       "      <td>186666.67</td>\n",
       "      <td>AveUpperMean</td>\n",
       "      <td>AveUpperMean</td>\n",
       "    </tr>\n",
       "    <tr>\n",
       "      <th>3478</th>\n",
       "      <td>82.0</td>\n",
       "      <td>2</td>\n",
       "      <td>False</td>\n",
       "      <td>True</td>\n",
       "      <td>True</td>\n",
       "      <td>Parand</td>\n",
       "      <td>3.600000e+08</td>\n",
       "      <td>12000.00</td>\n",
       "      <td>AveUnderMean</td>\n",
       "      <td>cheap</td>\n",
       "    </tr>\n",
       "  </tbody>\n",
       "</table>\n",
       "<p>3479 rows × 10 columns</p>\n",
       "</div>"
      ],
      "text/plain": [
       "       Area  Room  Parking  Warehouse  Elevator             Address  \\\n",
       "0      63.0     1     True       True      True             Shahran   \n",
       "1      60.0     1     True       True      True             Shahran   \n",
       "2      79.0     2     True       True      True              Pardis   \n",
       "3      95.0     2     True       True      True       Shahrake Qods   \n",
       "4     123.0     2     True       True      True      Shahrake Gharb   \n",
       "...     ...   ...      ...        ...       ...                 ...   \n",
       "3474   86.0     2     True       True      True  Southern Janatabad   \n",
       "3475   83.0     2     True       True      True            Niavaran   \n",
       "3476   75.0     2    False      False     False              Parand   \n",
       "3477  105.0     2     True       True      True              Dorous   \n",
       "3478   82.0     2    False       True      True              Parand   \n",
       "\n",
       "             Price  Price(USD)      AreaSize    PriceLevel  \n",
       "0     1.850000e+09    61666.67  AveUnderMean  AveUnderMean  \n",
       "1     1.850000e+09    61666.67  AveUnderMean  AveUnderMean  \n",
       "2     5.500000e+08    18333.33  AveUnderMean         cheap  \n",
       "3     9.025000e+08    30083.33  AveUpperMean         cheap  \n",
       "4     7.000000e+09   233333.33          High     Expensive  \n",
       "...            ...         ...           ...           ...  \n",
       "3474  3.500000e+09   116666.67  AveUnderMean  AveUpperMean  \n",
       "3475  6.800000e+09   226666.67  AveUnderMean     Expensive  \n",
       "3476  3.650000e+08    12166.67  AveUnderMean         cheap  \n",
       "3477  5.600000e+09   186666.67  AveUpperMean  AveUpperMean  \n",
       "3478  3.600000e+08    12000.00  AveUnderMean         cheap  \n",
       "\n",
       "[3479 rows x 10 columns]"
      ]
     },
     "execution_count": 19,
     "metadata": {},
     "output_type": "execute_result"
    }
   ],
   "source": [
    "# TODO: Create a new feature 'PriceLevel' based on the 'Price' column values, categorizing them as 'Cheap', 'AveUnderMean', 'AveUpperMean', or 'Expensive'.\n",
    "PriceLevel = []\n",
    "q1 = data['Price'].describe()[\"25%\"]\n",
    "q2 = data['Price'].describe()[\"50%\"]\n",
    "q3 = data['Price'].describe()[\"75%\"]\n",
    "\n",
    "for i in range(data.shape[0]):\n",
    "    dtemp = data['Price'].loc[i]\n",
    "    \n",
    "    if dtemp<q1:\n",
    "        PriceLevel.append(\"cheap\")\n",
    "        \n",
    "    elif dtemp>=q1 and dtemp<q2:\n",
    "        PriceLevel.append(\"AveUnderMean\")\n",
    "        \n",
    "    elif dtemp>=q2 and dtemp<q3:\n",
    "        PriceLevel.append(\"AveUpperMean\")\n",
    "        \n",
    "    elif dtemp>=q3:\n",
    "        PriceLevel.append(\"Expensive\")\n",
    "\n",
    "data['PriceLevel'] = PriceLevel\n",
    "data"
   ]
  },
  {
   "cell_type": "code",
   "execution_count": 20,
   "metadata": {},
   "outputs": [
    {
     "data": {
      "text/plain": [
       "<Axes: xlabel='PriceLevel', ylabel='count'>"
      ]
     },
     "execution_count": 20,
     "metadata": {},
     "output_type": "execute_result"
    },
    {
     "data": {
      "image/png": "[encoded data removed]",
      "text/plain": [
       "<Figure size 640x480 with 1 Axes>"
      ]
     },
     "metadata": {},
     "output_type": "display_data"
    }
   ],
   "source": [
    "# TODO: Visualize the distribution of the 'PriceLevel' feature using a countplot.\n",
    "sns.countplot(data=data, x='PriceLevel')"
   ]
  },
  {
   "cell_type": "markdown",
   "metadata": {},
   "source": [
    "**Description**<br>\n",
    "\n",
    "We have very balanced distribution in 4 parts"
   ]
  },
  {
   "cell_type": "markdown",
   "metadata": {},
   "source": [
    "## Data Pre-Processing"
   ]
  },
  {
   "cell_type": "code",
   "execution_count": 21,
   "metadata": {},
   "outputs": [
    {
     "data": {
      "text/html": [
       "<div>\n",
       "<style scoped>\n",
       "    .dataframe tbody tr th:only-of-type {\n",
       "        vertical-align: middle;\n",
       "    }\n",
       "\n",
       "    .dataframe tbody tr th {\n",
       "        vertical-align: top;\n",
       "    }\n",
       "\n",
       "    .dataframe thead th {\n",
       "        text-align: right;\n",
       "    }\n",
       "</style>\n",
       "<table border=\"1\" class=\"dataframe\">\n",
       "  <thead>\n",
       "    <tr style=\"text-align: right;\">\n",
       "      <th></th>\n",
       "      <th>Area</th>\n",
       "      <th>Room</th>\n",
       "      <th>Parking</th>\n",
       "      <th>Warehouse</th>\n",
       "      <th>Elevator</th>\n",
       "      <th>Address</th>\n",
       "      <th>Price</th>\n",
       "      <th>Price(USD)</th>\n",
       "      <th>AreaSize</th>\n",
       "      <th>PriceLevel</th>\n",
       "    </tr>\n",
       "  </thead>\n",
       "  <tbody>\n",
       "    <tr>\n",
       "      <th>1424</th>\n",
       "      <td>100.0</td>\n",
       "      <td>2</td>\n",
       "      <td>True</td>\n",
       "      <td>True</td>\n",
       "      <td>True</td>\n",
       "      <td>Punak</td>\n",
       "      <td>5.650000e+09</td>\n",
       "      <td>188333.33</td>\n",
       "      <td>AveUpperMean</td>\n",
       "      <td>AveUpperMean</td>\n",
       "    </tr>\n",
       "    <tr>\n",
       "      <th>1857</th>\n",
       "      <td>122.0</td>\n",
       "      <td>2</td>\n",
       "      <td>True</td>\n",
       "      <td>True</td>\n",
       "      <td>True</td>\n",
       "      <td>Jeyhoon</td>\n",
       "      <td>3.900000e+09</td>\n",
       "      <td>130000.00</td>\n",
       "      <td>High</td>\n",
       "      <td>AveUpperMean</td>\n",
       "    </tr>\n",
       "    <tr>\n",
       "      <th>672</th>\n",
       "      <td>53.0</td>\n",
       "      <td>1</td>\n",
       "      <td>True</td>\n",
       "      <td>True</td>\n",
       "      <td>False</td>\n",
       "      <td>East Ferdows Boulevard</td>\n",
       "      <td>1.920000e+09</td>\n",
       "      <td>64000.00</td>\n",
       "      <td>AveUnderMean</td>\n",
       "      <td>AveUnderMean</td>\n",
       "    </tr>\n",
       "    <tr>\n",
       "      <th>2222</th>\n",
       "      <td>53.0</td>\n",
       "      <td>1</td>\n",
       "      <td>False</td>\n",
       "      <td>True</td>\n",
       "      <td>False</td>\n",
       "      <td>Baghestan</td>\n",
       "      <td>4.500000e+08</td>\n",
       "      <td>15000.00</td>\n",
       "      <td>AveUnderMean</td>\n",
       "      <td>cheap</td>\n",
       "    </tr>\n",
       "    <tr>\n",
       "      <th>3428</th>\n",
       "      <td>63.0</td>\n",
       "      <td>3</td>\n",
       "      <td>True</td>\n",
       "      <td>True</td>\n",
       "      <td>False</td>\n",
       "      <td>Shoosh</td>\n",
       "      <td>1.200000e+09</td>\n",
       "      <td>40000.00</td>\n",
       "      <td>AveUnderMean</td>\n",
       "      <td>cheap</td>\n",
       "    </tr>\n",
       "    <tr>\n",
       "      <th>3129</th>\n",
       "      <td>42.0</td>\n",
       "      <td>1</td>\n",
       "      <td>False</td>\n",
       "      <td>True</td>\n",
       "      <td>False</td>\n",
       "      <td>Shoosh</td>\n",
       "      <td>9.200000e+08</td>\n",
       "      <td>30666.67</td>\n",
       "      <td>AveUnderMean</td>\n",
       "      <td>cheap</td>\n",
       "    </tr>\n",
       "    <tr>\n",
       "      <th>901</th>\n",
       "      <td>110.0</td>\n",
       "      <td>3</td>\n",
       "      <td>True</td>\n",
       "      <td>True</td>\n",
       "      <td>True</td>\n",
       "      <td>Jeyhoon</td>\n",
       "      <td>2.330000e+09</td>\n",
       "      <td>77666.67</td>\n",
       "      <td>AveUpperMean</td>\n",
       "      <td>AveUnderMean</td>\n",
       "    </tr>\n",
       "    <tr>\n",
       "      <th>2696</th>\n",
       "      <td>94.0</td>\n",
       "      <td>2</td>\n",
       "      <td>False</td>\n",
       "      <td>True</td>\n",
       "      <td>False</td>\n",
       "      <td>Northren Jamalzadeh</td>\n",
       "      <td>2.400000e+09</td>\n",
       "      <td>80000.00</td>\n",
       "      <td>AveUpperMean</td>\n",
       "      <td>AveUnderMean</td>\n",
       "    </tr>\n",
       "    <tr>\n",
       "      <th>2065</th>\n",
       "      <td>87.0</td>\n",
       "      <td>2</td>\n",
       "      <td>True</td>\n",
       "      <td>True</td>\n",
       "      <td>True</td>\n",
       "      <td>Pardis</td>\n",
       "      <td>4.960000e+08</td>\n",
       "      <td>16533.33</td>\n",
       "      <td>AveUnderMean</td>\n",
       "      <td>cheap</td>\n",
       "    </tr>\n",
       "    <tr>\n",
       "      <th>201</th>\n",
       "      <td>270.0</td>\n",
       "      <td>4</td>\n",
       "      <td>True</td>\n",
       "      <td>True</td>\n",
       "      <td>True</td>\n",
       "      <td>Farmanieh</td>\n",
       "      <td>3.780000e+10</td>\n",
       "      <td>1260000.00</td>\n",
       "      <td>High</td>\n",
       "      <td>Expensive</td>\n",
       "    </tr>\n",
       "  </tbody>\n",
       "</table>\n",
       "</div>"
      ],
      "text/plain": [
       "       Area  Room  Parking  Warehouse  Elevator                 Address  \\\n",
       "1424  100.0     2     True       True      True                   Punak   \n",
       "1857  122.0     2     True       True      True                 Jeyhoon   \n",
       "672    53.0     1     True       True     False  East Ferdows Boulevard   \n",
       "2222   53.0     1    False       True     False               Baghestan   \n",
       "3428   63.0     3     True       True     False                  Shoosh   \n",
       "3129   42.0     1    False       True     False                  Shoosh   \n",
       "901   110.0     3     True       True      True                 Jeyhoon   \n",
       "2696   94.0     2    False       True     False     Northren Jamalzadeh   \n",
       "2065   87.0     2     True       True      True                  Pardis   \n",
       "201   270.0     4     True       True      True               Farmanieh   \n",
       "\n",
       "             Price  Price(USD)      AreaSize    PriceLevel  \n",
       "1424  5.650000e+09   188333.33  AveUpperMean  AveUpperMean  \n",
       "1857  3.900000e+09   130000.00          High  AveUpperMean  \n",
       "672   1.920000e+09    64000.00  AveUnderMean  AveUnderMean  \n",
       "2222  4.500000e+08    15000.00  AveUnderMean         cheap  \n",
       "3428  1.200000e+09    40000.00  AveUnderMean         cheap  \n",
       "3129  9.200000e+08    30666.67  AveUnderMean         cheap  \n",
       "901   2.330000e+09    77666.67  AveUpperMean  AveUnderMean  \n",
       "2696  2.400000e+09    80000.00  AveUpperMean  AveUnderMean  \n",
       "2065  4.960000e+08    16533.33  AveUnderMean         cheap  \n",
       "201   3.780000e+10  1260000.00          High     Expensive  "
      ]
     },
     "execution_count": 21,
     "metadata": {},
     "output_type": "execute_result"
    }
   ],
   "source": [
    "# TODO: Display a random sample of 10 rows from the dataset.\n",
    "rand = (np.random.randint(len(data), size=(10)))\n",
    "data.loc[rand]"
   ]
  },
  {
   "cell_type": "code",
   "execution_count": 22,
   "metadata": {},
   "outputs": [
    {
     "data": {
      "text/plain": [
       "0.6611095142282265"
      ]
     },
     "execution_count": 22,
     "metadata": {},
     "output_type": "execute_result"
    }
   ],
   "source": [
    "# TODO: Calculate the number and percentage of missing values for each column in the dataset and display the results. Highlight the column with the maximum percentage of missing values in red.\n",
    "missingValues = pd.DataFrame({\"NaN count\":data.isna().sum(),\n",
    "                             \"NaN Percentage\":data.isna().sum()/len(data)*100})\n",
    "missingValues[\"NaN Percentage\"].max()"
   ]
  },
  {
   "cell_type": "markdown",
   "metadata": {},
   "source": [
    "    \n",
    "**Description**<br>\n",
    "\n",
    "Address (location of house) is crucial , wa cant replace missing values with like(most frequent)\n",
    "(if we do that our model doesnt have good prediction) <br>\n",
    "So , we easily drop those missing values"
   ]
  },
  {
   "cell_type": "code",
   "execution_count": 23,
   "metadata": {},
   "outputs": [
    {
     "data": {
      "text/html": [
       "<div>\n",
       "<style scoped>\n",
       "    .dataframe tbody tr th:only-of-type {\n",
       "        vertical-align: middle;\n",
       "    }\n",
       "\n",
       "    .dataframe tbody tr th {\n",
       "        vertical-align: top;\n",
       "    }\n",
       "\n",
       "    .dataframe thead th {\n",
       "        text-align: right;\n",
       "    }\n",
       "</style>\n",
       "<table border=\"1\" class=\"dataframe\">\n",
       "  <thead>\n",
       "    <tr style=\"text-align: right;\">\n",
       "      <th></th>\n",
       "      <th>Area</th>\n",
       "      <th>Room</th>\n",
       "      <th>Parking</th>\n",
       "      <th>Warehouse</th>\n",
       "      <th>Elevator</th>\n",
       "      <th>Address</th>\n",
       "      <th>Price</th>\n",
       "      <th>Price(USD)</th>\n",
       "      <th>AreaSize</th>\n",
       "      <th>PriceLevel</th>\n",
       "    </tr>\n",
       "  </thead>\n",
       "  <tbody>\n",
       "    <tr>\n",
       "      <th>0</th>\n",
       "      <td>63.0</td>\n",
       "      <td>1</td>\n",
       "      <td>True</td>\n",
       "      <td>True</td>\n",
       "      <td>True</td>\n",
       "      <td>Shahran</td>\n",
       "      <td>1.850000e+09</td>\n",
       "      <td>61666.67</td>\n",
       "      <td>AveUnderMean</td>\n",
       "      <td>AveUnderMean</td>\n",
       "    </tr>\n",
       "    <tr>\n",
       "      <th>1</th>\n",
       "      <td>60.0</td>\n",
       "      <td>1</td>\n",
       "      <td>True</td>\n",
       "      <td>True</td>\n",
       "      <td>True</td>\n",
       "      <td>Shahran</td>\n",
       "      <td>1.850000e+09</td>\n",
       "      <td>61666.67</td>\n",
       "      <td>AveUnderMean</td>\n",
       "      <td>AveUnderMean</td>\n",
       "    </tr>\n",
       "    <tr>\n",
       "      <th>2</th>\n",
       "      <td>79.0</td>\n",
       "      <td>2</td>\n",
       "      <td>True</td>\n",
       "      <td>True</td>\n",
       "      <td>True</td>\n",
       "      <td>Pardis</td>\n",
       "      <td>5.500000e+08</td>\n",
       "      <td>18333.33</td>\n",
       "      <td>AveUnderMean</td>\n",
       "      <td>cheap</td>\n",
       "    </tr>\n",
       "    <tr>\n",
       "      <th>3</th>\n",
       "      <td>95.0</td>\n",
       "      <td>2</td>\n",
       "      <td>True</td>\n",
       "      <td>True</td>\n",
       "      <td>True</td>\n",
       "      <td>Shahrake Qods</td>\n",
       "      <td>9.025000e+08</td>\n",
       "      <td>30083.33</td>\n",
       "      <td>AveUpperMean</td>\n",
       "      <td>cheap</td>\n",
       "    </tr>\n",
       "    <tr>\n",
       "      <th>4</th>\n",
       "      <td>123.0</td>\n",
       "      <td>2</td>\n",
       "      <td>True</td>\n",
       "      <td>True</td>\n",
       "      <td>True</td>\n",
       "      <td>Shahrake Gharb</td>\n",
       "      <td>7.000000e+09</td>\n",
       "      <td>233333.33</td>\n",
       "      <td>High</td>\n",
       "      <td>Expensive</td>\n",
       "    </tr>\n",
       "    <tr>\n",
       "      <th>...</th>\n",
       "      <td>...</td>\n",
       "      <td>...</td>\n",
       "      <td>...</td>\n",
       "      <td>...</td>\n",
       "      <td>...</td>\n",
       "      <td>...</td>\n",
       "      <td>...</td>\n",
       "      <td>...</td>\n",
       "      <td>...</td>\n",
       "      <td>...</td>\n",
       "    </tr>\n",
       "    <tr>\n",
       "      <th>3451</th>\n",
       "      <td>86.0</td>\n",
       "      <td>2</td>\n",
       "      <td>True</td>\n",
       "      <td>True</td>\n",
       "      <td>True</td>\n",
       "      <td>Southern Janatabad</td>\n",
       "      <td>3.500000e+09</td>\n",
       "      <td>116666.67</td>\n",
       "      <td>AveUnderMean</td>\n",
       "      <td>AveUpperMean</td>\n",
       "    </tr>\n",
       "    <tr>\n",
       "      <th>3452</th>\n",
       "      <td>83.0</td>\n",
       "      <td>2</td>\n",
       "      <td>True</td>\n",
       "      <td>True</td>\n",
       "      <td>True</td>\n",
       "      <td>Niavaran</td>\n",
       "      <td>6.800000e+09</td>\n",
       "      <td>226666.67</td>\n",
       "      <td>AveUnderMean</td>\n",
       "      <td>Expensive</td>\n",
       "    </tr>\n",
       "    <tr>\n",
       "      <th>3453</th>\n",
       "      <td>75.0</td>\n",
       "      <td>2</td>\n",
       "      <td>False</td>\n",
       "      <td>False</td>\n",
       "      <td>False</td>\n",
       "      <td>Parand</td>\n",
       "      <td>3.650000e+08</td>\n",
       "      <td>12166.67</td>\n",
       "      <td>AveUnderMean</td>\n",
       "      <td>cheap</td>\n",
       "    </tr>\n",
       "    <tr>\n",
       "      <th>3454</th>\n",
       "      <td>105.0</td>\n",
       "      <td>2</td>\n",
       "      <td>True</td>\n",
       "      <td>True</td>\n",
       "      <td>True</td>\n",
       "      <td>Dorous</td>\n",
       "      <td>5.600000e+09</td>\n",
       "      <td>186666.67</td>\n",
       "      <td>AveUpperMean</td>\n",
       "      <td>AveUpperMean</td>\n",
       "    </tr>\n",
       "    <tr>\n",
       "      <th>3455</th>\n",
       "      <td>82.0</td>\n",
       "      <td>2</td>\n",
       "      <td>False</td>\n",
       "      <td>True</td>\n",
       "      <td>True</td>\n",
       "      <td>Parand</td>\n",
       "      <td>3.600000e+08</td>\n",
       "      <td>12000.00</td>\n",
       "      <td>AveUnderMean</td>\n",
       "      <td>cheap</td>\n",
       "    </tr>\n",
       "  </tbody>\n",
       "</table>\n",
       "<p>3456 rows × 10 columns</p>\n",
       "</div>"
      ],
      "text/plain": [
       "       Area  Room  Parking  Warehouse  Elevator             Address  \\\n",
       "0      63.0     1     True       True      True             Shahran   \n",
       "1      60.0     1     True       True      True             Shahran   \n",
       "2      79.0     2     True       True      True              Pardis   \n",
       "3      95.0     2     True       True      True       Shahrake Qods   \n",
       "4     123.0     2     True       True      True      Shahrake Gharb   \n",
       "...     ...   ...      ...        ...       ...                 ...   \n",
       "3451   86.0     2     True       True      True  Southern Janatabad   \n",
       "3452   83.0     2     True       True      True            Niavaran   \n",
       "3453   75.0     2    False      False     False              Parand   \n",
       "3454  105.0     2     True       True      True              Dorous   \n",
       "3455   82.0     2    False       True      True              Parand   \n",
       "\n",
       "             Price  Price(USD)      AreaSize    PriceLevel  \n",
       "0     1.850000e+09    61666.67  AveUnderMean  AveUnderMean  \n",
       "1     1.850000e+09    61666.67  AveUnderMean  AveUnderMean  \n",
       "2     5.500000e+08    18333.33  AveUnderMean         cheap  \n",
       "3     9.025000e+08    30083.33  AveUpperMean         cheap  \n",
       "4     7.000000e+09   233333.33          High     Expensive  \n",
       "...            ...         ...           ...           ...  \n",
       "3451  3.500000e+09   116666.67  AveUnderMean  AveUpperMean  \n",
       "3452  6.800000e+09   226666.67  AveUnderMean     Expensive  \n",
       "3453  3.650000e+08    12166.67  AveUnderMean         cheap  \n",
       "3454  5.600000e+09   186666.67  AveUpperMean  AveUpperMean  \n",
       "3455  3.600000e+08    12000.00  AveUnderMean         cheap  \n",
       "\n",
       "[3456 rows x 10 columns]"
      ]
     },
     "execution_count": 23,
     "metadata": {},
     "output_type": "execute_result"
    }
   ],
   "source": [
    "# TODO: Remove rows with missing values from the dataset.\n",
    "data = data.dropna().reset_index(drop=True)\n",
    "data"
   ]
  },
  {
   "cell_type": "code",
   "execution_count": 24,
   "metadata": {},
   "outputs": [
    {
     "data": {
      "text/plain": [
       "Area          0\n",
       "Room          0\n",
       "Parking       0\n",
       "Warehouse     0\n",
       "Elevator      0\n",
       "Address       0\n",
       "Price         0\n",
       "Price(USD)    0\n",
       "AreaSize      0\n",
       "PriceLevel    0\n",
       "dtype: int64"
      ]
     },
     "execution_count": 24,
     "metadata": {},
     "output_type": "execute_result"
    }
   ],
   "source": [
    "# TODO: Confirm that there are no missing values remaining in the dataset after removing them.\n",
    "data.isna().sum()"
   ]
  },
  {
   "cell_type": "code",
   "execution_count": 25,
   "metadata": {},
   "outputs": [
    {
     "name": "stdout",
     "output_type": "stream",
     "text": [
      "208\n",
      "       Area  Room  Parking  Warehouse  Elevator            Address  \\\n",
      "54     61.0     1     True       True     False              Punak   \n",
      "77     74.0     2     True       True      True            Amirieh   \n",
      "78     88.0     3    False      False      True             Parand   \n",
      "79     63.0     1     True       True      True              Punak   \n",
      "80    114.0     3     True       True      True         Sattarkhan   \n",
      "...     ...   ...      ...        ...       ...                ...   \n",
      "3426   80.0     2     True       True      True              Punak   \n",
      "3428   88.0     2     True       True      True  Central Janatabad   \n",
      "3436   80.0     2     True       True      True        Ostad Moein   \n",
      "3438   55.0     1     True       True      True              Punak   \n",
      "3453   75.0     2    False      False     False             Parand   \n",
      "\n",
      "             Price  Price(USD)      AreaSize    PriceLevel  \n",
      "54    2.030000e+09    67666.67  AveUnderMean  AveUnderMean  \n",
      "77    1.700000e+09    56666.67  AveUnderMean  AveUnderMean  \n",
      "78    5.600000e+08    18666.67  AveUnderMean         cheap  \n",
      "79    2.150000e+09    71666.67  AveUnderMean  AveUnderMean  \n",
      "80    5.500000e+09   183333.33  AveUpperMean  AveUpperMean  \n",
      "...            ...         ...           ...           ...  \n",
      "3426  3.760000e+09   125333.33  AveUnderMean  AveUpperMean  \n",
      "3428  4.000000e+09   133333.33  AveUnderMean  AveUpperMean  \n",
      "3436  2.250000e+09    75000.00  AveUnderMean  AveUnderMean  \n",
      "3438  2.300000e+09    76666.67  AveUnderMean  AveUnderMean  \n",
      "3453  3.650000e+08    12166.67  AveUnderMean         cheap  \n",
      "\n",
      "[208 rows x 10 columns]\n"
     ]
    }
   ],
   "source": [
    "# TODO: Identify and count duplicated values in the dataset. Calculate and print the percentage of duplicated values.\n",
    "print(data.duplicated().sum())\n",
    "print(data.loc[data.duplicated])"
   ]
  },
  {
   "cell_type": "markdown",
   "metadata": {},
   "source": [
    "**Description**<br>\n",
    "\n",
    "We have 208 duplicated values .\n",
    "We can easily drop them"
   ]
  },
  {
   "cell_type": "code",
   "execution_count": 26,
   "metadata": {},
   "outputs": [
    {
     "data": {
      "text/html": [
       "<div>\n",
       "<style scoped>\n",
       "    .dataframe tbody tr th:only-of-type {\n",
       "        vertical-align: middle;\n",
       "    }\n",
       "\n",
       "    .dataframe tbody tr th {\n",
       "        vertical-align: top;\n",
       "    }\n",
       "\n",
       "    .dataframe thead th {\n",
       "        text-align: right;\n",
       "    }\n",
       "</style>\n",
       "<table border=\"1\" class=\"dataframe\">\n",
       "  <thead>\n",
       "    <tr style=\"text-align: right;\">\n",
       "      <th></th>\n",
       "      <th>Area</th>\n",
       "      <th>Room</th>\n",
       "      <th>Parking</th>\n",
       "      <th>Warehouse</th>\n",
       "      <th>Elevator</th>\n",
       "      <th>Address</th>\n",
       "      <th>Price</th>\n",
       "      <th>Price(USD)</th>\n",
       "      <th>AreaSize</th>\n",
       "      <th>PriceLevel</th>\n",
       "    </tr>\n",
       "  </thead>\n",
       "  <tbody>\n",
       "    <tr>\n",
       "      <th>0</th>\n",
       "      <td>63.0</td>\n",
       "      <td>1</td>\n",
       "      <td>True</td>\n",
       "      <td>True</td>\n",
       "      <td>True</td>\n",
       "      <td>Shahran</td>\n",
       "      <td>1.850000e+09</td>\n",
       "      <td>61666.67</td>\n",
       "      <td>AveUnderMean</td>\n",
       "      <td>AveUnderMean</td>\n",
       "    </tr>\n",
       "    <tr>\n",
       "      <th>1</th>\n",
       "      <td>60.0</td>\n",
       "      <td>1</td>\n",
       "      <td>True</td>\n",
       "      <td>True</td>\n",
       "      <td>True</td>\n",
       "      <td>Shahran</td>\n",
       "      <td>1.850000e+09</td>\n",
       "      <td>61666.67</td>\n",
       "      <td>AveUnderMean</td>\n",
       "      <td>AveUnderMean</td>\n",
       "    </tr>\n",
       "    <tr>\n",
       "      <th>2</th>\n",
       "      <td>79.0</td>\n",
       "      <td>2</td>\n",
       "      <td>True</td>\n",
       "      <td>True</td>\n",
       "      <td>True</td>\n",
       "      <td>Pardis</td>\n",
       "      <td>5.500000e+08</td>\n",
       "      <td>18333.33</td>\n",
       "      <td>AveUnderMean</td>\n",
       "      <td>cheap</td>\n",
       "    </tr>\n",
       "    <tr>\n",
       "      <th>3</th>\n",
       "      <td>95.0</td>\n",
       "      <td>2</td>\n",
       "      <td>True</td>\n",
       "      <td>True</td>\n",
       "      <td>True</td>\n",
       "      <td>Shahrake Qods</td>\n",
       "      <td>9.025000e+08</td>\n",
       "      <td>30083.33</td>\n",
       "      <td>AveUpperMean</td>\n",
       "      <td>cheap</td>\n",
       "    </tr>\n",
       "    <tr>\n",
       "      <th>4</th>\n",
       "      <td>123.0</td>\n",
       "      <td>2</td>\n",
       "      <td>True</td>\n",
       "      <td>True</td>\n",
       "      <td>True</td>\n",
       "      <td>Shahrake Gharb</td>\n",
       "      <td>7.000000e+09</td>\n",
       "      <td>233333.33</td>\n",
       "      <td>High</td>\n",
       "      <td>Expensive</td>\n",
       "    </tr>\n",
       "    <tr>\n",
       "      <th>...</th>\n",
       "      <td>...</td>\n",
       "      <td>...</td>\n",
       "      <td>...</td>\n",
       "      <td>...</td>\n",
       "      <td>...</td>\n",
       "      <td>...</td>\n",
       "      <td>...</td>\n",
       "      <td>...</td>\n",
       "      <td>...</td>\n",
       "      <td>...</td>\n",
       "    </tr>\n",
       "    <tr>\n",
       "      <th>3243</th>\n",
       "      <td>63.0</td>\n",
       "      <td>1</td>\n",
       "      <td>True</td>\n",
       "      <td>True</td>\n",
       "      <td>False</td>\n",
       "      <td>Feiz Garden</td>\n",
       "      <td>1.890000e+09</td>\n",
       "      <td>63000.00</td>\n",
       "      <td>AveUnderMean</td>\n",
       "      <td>AveUnderMean</td>\n",
       "    </tr>\n",
       "    <tr>\n",
       "      <th>3244</th>\n",
       "      <td>86.0</td>\n",
       "      <td>2</td>\n",
       "      <td>True</td>\n",
       "      <td>True</td>\n",
       "      <td>True</td>\n",
       "      <td>Southern Janatabad</td>\n",
       "      <td>3.500000e+09</td>\n",
       "      <td>116666.67</td>\n",
       "      <td>AveUnderMean</td>\n",
       "      <td>AveUpperMean</td>\n",
       "    </tr>\n",
       "    <tr>\n",
       "      <th>3245</th>\n",
       "      <td>83.0</td>\n",
       "      <td>2</td>\n",
       "      <td>True</td>\n",
       "      <td>True</td>\n",
       "      <td>True</td>\n",
       "      <td>Niavaran</td>\n",
       "      <td>6.800000e+09</td>\n",
       "      <td>226666.67</td>\n",
       "      <td>AveUnderMean</td>\n",
       "      <td>Expensive</td>\n",
       "    </tr>\n",
       "    <tr>\n",
       "      <th>3246</th>\n",
       "      <td>105.0</td>\n",
       "      <td>2</td>\n",
       "      <td>True</td>\n",
       "      <td>True</td>\n",
       "      <td>True</td>\n",
       "      <td>Dorous</td>\n",
       "      <td>5.600000e+09</td>\n",
       "      <td>186666.67</td>\n",
       "      <td>AveUpperMean</td>\n",
       "      <td>AveUpperMean</td>\n",
       "    </tr>\n",
       "    <tr>\n",
       "      <th>3247</th>\n",
       "      <td>82.0</td>\n",
       "      <td>2</td>\n",
       "      <td>False</td>\n",
       "      <td>True</td>\n",
       "      <td>True</td>\n",
       "      <td>Parand</td>\n",
       "      <td>3.600000e+08</td>\n",
       "      <td>12000.00</td>\n",
       "      <td>AveUnderMean</td>\n",
       "      <td>cheap</td>\n",
       "    </tr>\n",
       "  </tbody>\n",
       "</table>\n",
       "<p>3248 rows × 10 columns</p>\n",
       "</div>"
      ],
      "text/plain": [
       "       Area  Room  Parking  Warehouse  Elevator             Address  \\\n",
       "0      63.0     1     True       True      True             Shahran   \n",
       "1      60.0     1     True       True      True             Shahran   \n",
       "2      79.0     2     True       True      True              Pardis   \n",
       "3      95.0     2     True       True      True       Shahrake Qods   \n",
       "4     123.0     2     True       True      True      Shahrake Gharb   \n",
       "...     ...   ...      ...        ...       ...                 ...   \n",
       "3243   63.0     1     True       True     False         Feiz Garden   \n",
       "3244   86.0     2     True       True      True  Southern Janatabad   \n",
       "3245   83.0     2     True       True      True            Niavaran   \n",
       "3246  105.0     2     True       True      True              Dorous   \n",
       "3247   82.0     2    False       True      True              Parand   \n",
       "\n",
       "             Price  Price(USD)      AreaSize    PriceLevel  \n",
       "0     1.850000e+09    61666.67  AveUnderMean  AveUnderMean  \n",
       "1     1.850000e+09    61666.67  AveUnderMean  AveUnderMean  \n",
       "2     5.500000e+08    18333.33  AveUnderMean         cheap  \n",
       "3     9.025000e+08    30083.33  AveUpperMean         cheap  \n",
       "4     7.000000e+09   233333.33          High     Expensive  \n",
       "...            ...         ...           ...           ...  \n",
       "3243  1.890000e+09    63000.00  AveUnderMean  AveUnderMean  \n",
       "3244  3.500000e+09   116666.67  AveUnderMean  AveUpperMean  \n",
       "3245  6.800000e+09   226666.67  AveUnderMean     Expensive  \n",
       "3246  5.600000e+09   186666.67  AveUpperMean  AveUpperMean  \n",
       "3247  3.600000e+08    12000.00  AveUnderMean         cheap  \n",
       "\n",
       "[3248 rows x 10 columns]"
      ]
     },
     "execution_count": 26,
     "metadata": {},
     "output_type": "execute_result"
    }
   ],
   "source": [
    "# TODO: Remove duplicated rows from the dataset, reset the index, and drop the old index column.\n",
    "data.drop_duplicates(inplace=True)\n",
    "data = data.reset_index(drop=True)\n",
    "data"
   ]
  },
  {
   "cell_type": "code",
   "execution_count": 27,
   "metadata": {},
   "outputs": [
    {
     "data": {
      "text/plain": [
       "(3248, 10)"
      ]
     },
     "execution_count": 27,
     "metadata": {},
     "output_type": "execute_result"
    }
   ],
   "source": [
    "# TODO: Print the new shape of the dataset after removing duplicated rows and resetting the index.\n",
    "data.shape"
   ]
  },
  {
   "cell_type": "code",
   "execution_count": 28,
   "metadata": {},
   "outputs": [
    {
     "data": {
      "text/plain": [
       "Area           object\n",
       "Room            int64\n",
       "Parking          bool\n",
       "Warehouse        bool\n",
       "Elevator         bool\n",
       "Address        object\n",
       "Price         float64\n",
       "Price(USD)    float64\n",
       "AreaSize       object\n",
       "PriceLevel     object\n",
       "dtype: object"
      ]
     },
     "execution_count": 28,
     "metadata": {},
     "output_type": "execute_result"
    }
   ],
   "source": [
    "# TODO: Display the data types of columns in the dataset after any transformations or modifications.\n",
    "data.dtypes"
   ]
  },
  {
   "cell_type": "markdown",
   "metadata": {},
   "source": [
    "**Description**<br>\n",
    "* About dtypes every thing is fine . <br>\n",
    "* We are going to check and discover each feature ."
   ]
  },
  {
   "cell_type": "code",
   "execution_count": 29,
   "metadata": {},
   "outputs": [
    {
     "data": {
      "text/html": [
       "<div>\n",
       "<style scoped>\n",
       "    .dataframe tbody tr th:only-of-type {\n",
       "        vertical-align: middle;\n",
       "    }\n",
       "\n",
       "    .dataframe tbody tr th {\n",
       "        vertical-align: top;\n",
       "    }\n",
       "\n",
       "    .dataframe thead th {\n",
       "        text-align: right;\n",
       "    }\n",
       "</style>\n",
       "<table border=\"1\" class=\"dataframe\">\n",
       "  <thead>\n",
       "    <tr style=\"text-align: right;\">\n",
       "      <th></th>\n",
       "      <th>mean</th>\n",
       "      <th>count</th>\n",
       "    </tr>\n",
       "    <tr>\n",
       "      <th>AreaSize</th>\n",
       "      <th></th>\n",
       "      <th></th>\n",
       "    </tr>\n",
       "  </thead>\n",
       "  <tbody>\n",
       "    <tr>\n",
       "      <th>High</th>\n",
       "      <td>1.306571e+10</td>\n",
       "      <td>875</td>\n",
       "    </tr>\n",
       "    <tr>\n",
       "      <th>AveUpperMean</th>\n",
       "      <td>4.069552e+09</td>\n",
       "      <td>815</td>\n",
       "    </tr>\n",
       "    <tr>\n",
       "      <th>AveUnderMean</th>\n",
       "      <td>1.953623e+09</td>\n",
       "      <td>1558</td>\n",
       "    </tr>\n",
       "  </tbody>\n",
       "</table>\n",
       "</div>"
      ],
      "text/plain": [
       "                      mean  count\n",
       "AreaSize                         \n",
       "High          1.306571e+10    875\n",
       "AveUpperMean  4.069552e+09    815\n",
       "AveUnderMean  1.953623e+09   1558"
      ]
     },
     "execution_count": 29,
     "metadata": {},
     "output_type": "execute_result"
    }
   ],
   "source": [
    "# TODO: Calculate the count and mean price for each category of the 'AreaSize' feature and display the results, sorted by 'AreaSize' in descending order.\n",
    "data.groupby(\"AreaSize\")[\"Price\"].agg([\"mean\",\"count\"]).sort_values(\"AreaSize\",ascending=False)"
   ]
  },
  {
   "cell_type": "markdown",
   "metadata": {},
   "source": [
    "**Description**<br>\n",
    "\n",
    "* Obviously with increasing the meter of a house the price will raise and Mean will be raised too . <br>\n",
    "\n",
    "* Distribution of houses according to Meter is : AveUnderMean - High - AveUpperMean - Small \n",
    "\n",
    "* There is just a house with a small size.(it's an outlier)"
   ]
  },
  {
   "cell_type": "code",
   "execution_count": 30,
   "metadata": {},
   "outputs": [
    {
     "data": {
      "text/html": [
       "<div>\n",
       "<style scoped>\n",
       "    .dataframe tbody tr th:only-of-type {\n",
       "        vertical-align: middle;\n",
       "    }\n",
       "\n",
       "    .dataframe tbody tr th {\n",
       "        vertical-align: top;\n",
       "    }\n",
       "\n",
       "    .dataframe thead th {\n",
       "        text-align: right;\n",
       "    }\n",
       "</style>\n",
       "<table border=\"1\" class=\"dataframe\">\n",
       "  <thead>\n",
       "    <tr style=\"text-align: right;\">\n",
       "      <th></th>\n",
       "      <th>mean</th>\n",
       "      <th>count</th>\n",
       "    </tr>\n",
       "    <tr>\n",
       "      <th>Room</th>\n",
       "      <th></th>\n",
       "      <th></th>\n",
       "    </tr>\n",
       "  </thead>\n",
       "  <tbody>\n",
       "    <tr>\n",
       "      <th>0</th>\n",
       "      <td>8.715556e+09</td>\n",
       "      <td>9</td>\n",
       "    </tr>\n",
       "    <tr>\n",
       "      <th>1</th>\n",
       "      <td>1.717832e+09</td>\n",
       "      <td>625</td>\n",
       "    </tr>\n",
       "    <tr>\n",
       "      <th>2</th>\n",
       "      <td>3.363038e+09</td>\n",
       "      <td>1819</td>\n",
       "    </tr>\n",
       "    <tr>\n",
       "      <th>3</th>\n",
       "      <td>1.104311e+10</td>\n",
       "      <td>694</td>\n",
       "    </tr>\n",
       "    <tr>\n",
       "      <th>4</th>\n",
       "      <td>2.568122e+10</td>\n",
       "      <td>68</td>\n",
       "    </tr>\n",
       "    <tr>\n",
       "      <th>5</th>\n",
       "      <td>3.373439e+10</td>\n",
       "      <td>33</td>\n",
       "    </tr>\n",
       "  </tbody>\n",
       "</table>\n",
       "</div>"
      ],
      "text/plain": [
       "              mean  count\n",
       "Room                     \n",
       "0     8.715556e+09      9\n",
       "1     1.717832e+09    625\n",
       "2     3.363038e+09   1819\n",
       "3     1.104311e+10    694\n",
       "4     2.568122e+10     68\n",
       "5     3.373439e+10     33"
      ]
     },
     "execution_count": 30,
     "metadata": {},
     "output_type": "execute_result"
    }
   ],
   "source": [
    "# TODO: Calculate the percentage distribution and mean price for each category of the 'Room' feature and display the results, sorted by room number.\n",
    "data.groupby(\"Room\")[\"Price\"].agg([\"mean\",\"count\"]).sort_values(\"Room\",ascending=True)"
   ]
  },
  {
   "cell_type": "markdown",
   "metadata": {},
   "source": [
    "    \n",
    "**Description**<br>\n",
    "\n",
    "We can see the distribution of houses with :   <br>\n",
    "In row 2 , 3 , 1 , 4 , 5   and 0 rooms have the highest distribution. <br>\n",
    "\n",
    "Mean price for each has been shown. <br>\n",
    "Obviously, with raising the number of rooms the cost will be increased.<br>\n",
    "(Duplicate the cost for each 1 room  (except 4rooms to 5rooms)"
   ]
  },
  {
   "cell_type": "code",
   "execution_count": 31,
   "metadata": {},
   "outputs": [
    {
     "data": {
      "text/html": [
       "<div>\n",
       "<style scoped>\n",
       "    .dataframe tbody tr th:only-of-type {\n",
       "        vertical-align: middle;\n",
       "    }\n",
       "\n",
       "    .dataframe tbody tr th {\n",
       "        vertical-align: top;\n",
       "    }\n",
       "\n",
       "    .dataframe thead th {\n",
       "        text-align: right;\n",
       "    }\n",
       "</style>\n",
       "<table border=\"1\" class=\"dataframe\">\n",
       "  <thead>\n",
       "    <tr style=\"text-align: right;\">\n",
       "      <th></th>\n",
       "      <th>mean</th>\n",
       "      <th>count</th>\n",
       "    </tr>\n",
       "    <tr>\n",
       "      <th>Parking</th>\n",
       "      <th></th>\n",
       "      <th></th>\n",
       "    </tr>\n",
       "  </thead>\n",
       "  <tbody>\n",
       "    <tr>\n",
       "      <th>False</th>\n",
       "      <td>1.745254e+09</td>\n",
       "      <td>503</td>\n",
       "    </tr>\n",
       "    <tr>\n",
       "      <th>True</th>\n",
       "      <td>6.162136e+09</td>\n",
       "      <td>2745</td>\n",
       "    </tr>\n",
       "  </tbody>\n",
       "</table>\n",
       "</div>"
      ],
      "text/plain": [
       "                 mean  count\n",
       "Parking                     \n",
       "False    1.745254e+09    503\n",
       "True     6.162136e+09   2745"
      ]
     },
     "execution_count": 31,
     "metadata": {},
     "output_type": "execute_result"
    }
   ],
   "source": [
    "# TODO: Calculate the count and mean price for each category of the 'Parking' feature and display the results.\n",
    "data.groupby(\"Parking\")[\"Price\"].agg([\"mean\",\"count\"])"
   ]
  },
  {
   "cell_type": "markdown",
   "metadata": {},
   "source": [
    "**Description**<br>\n",
    "\n",
    "* As we can see , most houses have parking (about 5.5x versus those without parking)<br>\n",
    "\n",
    "* Those houses with parking have higher costs.(about fourfold)(transparently Parking is an important feature for price) "
   ]
  },
  {
   "cell_type": "code",
   "execution_count": 32,
   "metadata": {},
   "outputs": [
    {
     "data": {
      "text/html": [
       "<div>\n",
       "<style scoped>\n",
       "    .dataframe tbody tr th:only-of-type {\n",
       "        vertical-align: middle;\n",
       "    }\n",
       "\n",
       "    .dataframe tbody tr th {\n",
       "        vertical-align: top;\n",
       "    }\n",
       "\n",
       "    .dataframe thead th {\n",
       "        text-align: right;\n",
       "    }\n",
       "</style>\n",
       "<table border=\"1\" class=\"dataframe\">\n",
       "  <thead>\n",
       "    <tr style=\"text-align: right;\">\n",
       "      <th></th>\n",
       "      <th>mean</th>\n",
       "      <th>count</th>\n",
       "    </tr>\n",
       "    <tr>\n",
       "      <th>Warehouse</th>\n",
       "      <th></th>\n",
       "      <th></th>\n",
       "    </tr>\n",
       "  </thead>\n",
       "  <tbody>\n",
       "    <tr>\n",
       "      <th>False</th>\n",
       "      <td>2.545552e+09</td>\n",
       "      <td>279</td>\n",
       "    </tr>\n",
       "    <tr>\n",
       "      <th>True</th>\n",
       "      <td>5.753694e+09</td>\n",
       "      <td>2969</td>\n",
       "    </tr>\n",
       "  </tbody>\n",
       "</table>\n",
       "</div>"
      ],
      "text/plain": [
       "                   mean  count\n",
       "Warehouse                     \n",
       "False      2.545552e+09    279\n",
       "True       5.753694e+09   2969"
      ]
     },
     "execution_count": 32,
     "metadata": {},
     "output_type": "execute_result"
    }
   ],
   "source": [
    "# TODO: Calculate the count and mean price for each category of the 'Warehouse' feature and display the results.\n",
    "data.groupby(\"Warehouse\")[\"Price\"].agg([\"mean\",\"count\"])"
   ]
  },
  {
   "cell_type": "markdown",
   "metadata": {},
   "source": [
    "    \n",
    "**Description**<br>\n",
    "\n",
    "* Most houses have Warehouse (about 10x versus those without Warehouse)\n",
    "\n",
    "* Houses with warehouse have higher costs . more than duoble"
   ]
  },
  {
   "cell_type": "code",
   "execution_count": 33,
   "metadata": {},
   "outputs": [
    {
     "data": {
      "text/html": [
       "<div>\n",
       "<style scoped>\n",
       "    .dataframe tbody tr th:only-of-type {\n",
       "        vertical-align: middle;\n",
       "    }\n",
       "\n",
       "    .dataframe tbody tr th {\n",
       "        vertical-align: top;\n",
       "    }\n",
       "\n",
       "    .dataframe thead th {\n",
       "        text-align: right;\n",
       "    }\n",
       "</style>\n",
       "<table border=\"1\" class=\"dataframe\">\n",
       "  <thead>\n",
       "    <tr style=\"text-align: right;\">\n",
       "      <th></th>\n",
       "      <th>mean</th>\n",
       "      <th>count</th>\n",
       "    </tr>\n",
       "    <tr>\n",
       "      <th>Elevator</th>\n",
       "      <th></th>\n",
       "      <th></th>\n",
       "    </tr>\n",
       "  </thead>\n",
       "  <tbody>\n",
       "    <tr>\n",
       "      <th>False</th>\n",
       "      <td>3.740239e+09</td>\n",
       "      <td>697</td>\n",
       "    </tr>\n",
       "    <tr>\n",
       "      <th>True</th>\n",
       "      <td>5.952952e+09</td>\n",
       "      <td>2551</td>\n",
       "    </tr>\n",
       "  </tbody>\n",
       "</table>\n",
       "</div>"
      ],
      "text/plain": [
       "                  mean  count\n",
       "Elevator                     \n",
       "False     3.740239e+09    697\n",
       "True      5.952952e+09   2551"
      ]
     },
     "execution_count": 33,
     "metadata": {},
     "output_type": "execute_result"
    }
   ],
   "source": [
    "# TODO: Calculate the count and mean price for each category of the 'Elevator' feature and display the results.\n",
    "data.groupby(\"Elevator\")[\"Price\"].agg([\"mean\",\"count\"])"
   ]
  },
  {
   "cell_type": "markdown",
   "metadata": {},
   "source": [
    "**Description**<br>\n",
    "\n",
    "* Most houses have Elevator (about 4x versus those without Elevator)\n",
    "\n",
    "* Houses with Elevator have higher costs .about 1.5X \n",
    "\n",
    "* Versus Parking and Warehouse  , Elevator has less influence on price\n"
   ]
  },
  {
   "cell_type": "code",
   "execution_count": 34,
   "metadata": {},
   "outputs": [
    {
     "data": {
      "text/html": [
       "<div>\n",
       "<style scoped>\n",
       "    .dataframe tbody tr th:only-of-type {\n",
       "        vertical-align: middle;\n",
       "    }\n",
       "\n",
       "    .dataframe tbody tr th {\n",
       "        vertical-align: top;\n",
       "    }\n",
       "\n",
       "    .dataframe thead th {\n",
       "        text-align: right;\n",
       "    }\n",
       "</style>\n",
       "<table border=\"1\" class=\"dataframe\">\n",
       "  <thead>\n",
       "    <tr style=\"text-align: right;\">\n",
       "      <th>Room</th>\n",
       "      <th>0</th>\n",
       "      <th>1</th>\n",
       "      <th>2</th>\n",
       "      <th>3</th>\n",
       "      <th>4</th>\n",
       "      <th>5</th>\n",
       "    </tr>\n",
       "    <tr>\n",
       "      <th>Parking</th>\n",
       "      <th></th>\n",
       "      <th></th>\n",
       "      <th></th>\n",
       "      <th></th>\n",
       "      <th></th>\n",
       "      <th></th>\n",
       "    </tr>\n",
       "  </thead>\n",
       "  <tbody>\n",
       "    <tr>\n",
       "      <th>False</th>\n",
       "      <td>7</td>\n",
       "      <td>233</td>\n",
       "      <td>233</td>\n",
       "      <td>24</td>\n",
       "      <td>1</td>\n",
       "      <td>5</td>\n",
       "    </tr>\n",
       "    <tr>\n",
       "      <th>True</th>\n",
       "      <td>2</td>\n",
       "      <td>392</td>\n",
       "      <td>1586</td>\n",
       "      <td>670</td>\n",
       "      <td>67</td>\n",
       "      <td>28</td>\n",
       "    </tr>\n",
       "  </tbody>\n",
       "</table>\n",
       "</div>"
      ],
      "text/plain": [
       "Room     0    1     2    3   4   5\n",
       "Parking                           \n",
       "False    7  233   233   24   1   5\n",
       "True     2  392  1586  670  67  28"
      ]
     },
     "execution_count": 34,
     "metadata": {},
     "output_type": "execute_result"
    }
   ],
   "source": [
    "# TODO: Create a cross-tabulation between the 'Parking' and 'Room' features in the dataset.\n",
    "pd.crosstab(data['Parking'], data['Room'], dropna=False)"
   ]
  },
  {
   "cell_type": "markdown",
   "metadata": {},
   "source": [
    "**Description**<br>\n",
    "\n",
    "* Most houses with 1 room or more have Parking.\n",
    "* With raising the number of rooms , houses with Parking have increasingly raised.\n",
    "\n"
   ]
  },
  {
   "cell_type": "code",
   "execution_count": 35,
   "metadata": {},
   "outputs": [
    {
     "data": {
      "text/plain": [
       "Parking  Warehouse\n",
       "False    False        2.488763e+09\n",
       "         True         1.312709e+09\n",
       "True     False        2.657319e+09\n",
       "         True         6.286411e+09\n",
       "Name: Price, dtype: float64"
      ]
     },
     "execution_count": 35,
     "metadata": {},
     "output_type": "execute_result"
    }
   ],
   "source": [
    "# TODO: Calculate the mean price for each combination of 'Parking' and 'Warehouse' features in the dataset and round the results.\n",
    "data.groupby([\"Parking\",\"Warehouse\"])[\"Price\"].agg(\"mean\")"
   ]
  },
  {
   "cell_type": "markdown",
   "metadata": {},
   "source": [
    "**Description**\n",
    "\n",
    "* It can be seen that houses with Warehouse and without Parking have less cost versus those houses with Parking.\n",
    "* If both features exist in a house , the cost of the house will be high.\n"
   ]
  },
  {
   "cell_type": "code",
   "execution_count": 36,
   "metadata": {},
   "outputs": [
    {
     "data": {
      "text/plain": [
       "Room  Warehouse\n",
       "0     False        1.912075e+10\n",
       "      True         3.914000e+08\n",
       "1     False        1.376320e+09\n",
       "      True         1.784436e+09\n",
       "2     False        1.811028e+09\n",
       "      True         3.495459e+09\n",
       "3     False        7.692475e+09\n",
       "      True         1.114253e+10\n",
       "4     False        3.673333e+09\n",
       "      True         2.669697e+10\n",
       "5     False        9.927857e+09\n",
       "      True         4.014385e+10\n",
       "Name: Price, dtype: float64"
      ]
     },
     "execution_count": 36,
     "metadata": {},
     "output_type": "execute_result"
    }
   ],
   "source": [
    "# TODO: Calculate the mean price for each combination of 'Room' and 'Warehouse' features in the dataset and round the results.\n",
    "data.groupby([\"Room\",\"Warehouse\"])[\"Price\"].agg(\"mean\")"
   ]
  },
  {
   "cell_type": "markdown",
   "metadata": {},
   "source": [
    "**Description**<br>\n",
    "* Except houses without room , with increasing the number of Rooms and Warehouse existance the cost will be increasingly raised.\n"
   ]
  },
  {
   "cell_type": "code",
   "execution_count": 37,
   "metadata": {},
   "outputs": [
    {
     "data": {
      "text/plain": [
       "array(['Shahran', 'Pardis', 'Shahrake Qods', 'Shahrake Gharb',\n",
       "       'North Program Organization', 'Andisheh', 'West Ferdows Boulevard',\n",
       "       'Narmak', 'Saadat Abad', 'Zafar', 'Islamshahr', 'Pirouzi',\n",
       "       'Shahrake Shahid Bagheri', 'Moniriyeh', 'Velenjak', 'Amirieh',\n",
       "       'Southern Janatabad', 'Salsabil', 'Zargandeh', 'Feiz Garden',\n",
       "       'Water Organization', 'ShahrAra', 'Gisha', 'Ray', 'Abbasabad',\n",
       "       'Ostad Moein', 'Farmanieh', 'Parand', 'Punak', 'Qasr-od-Dasht',\n",
       "       'Aqdasieh', 'Pakdasht', 'Railway', 'Central Janatabad',\n",
       "       'East Ferdows Boulevard', 'Pakdasht KhatunAbad', 'Sattarkhan',\n",
       "       'Baghestan', 'Shahryar', 'Northern Janatabad', 'Daryan No',\n",
       "       'Southern Program Organization', 'Rudhen', 'West Pars', 'Afsarieh',\n",
       "       'Marzdaran', 'Dorous', 'Sadeghieh', 'Chahardangeh', 'Baqershahr',\n",
       "       'Jeyhoon', 'Lavizan', 'Shams Abad', 'Fatemi',\n",
       "       'Keshavarz Boulevard', 'Kahrizak', 'Qarchak',\n",
       "       'Northren Jamalzadeh', 'Azarbaijan', 'Bahar',\n",
       "       'Persian Gulf Martyrs Lake', 'Beryanak', 'Heshmatieh',\n",
       "       'Elm-o-Sanat', 'Golestan', 'Shahr-e-Ziba', 'Pasdaran',\n",
       "       'Chardivari', 'Gheitarieh', 'Kamranieh', 'Gholhak', 'Heravi',\n",
       "       'Hashemi', 'Dehkade Olampic', 'Damavand', 'Republic', 'Zaferanieh',\n",
       "       'Qazvin Imamzadeh Hassan', 'Niavaran', 'Valiasr', 'Qalandari',\n",
       "       'Amir Bahador', 'Ekhtiarieh', 'Ekbatan', 'Absard', 'Haft Tir',\n",
       "       'Mahallati', 'Ozgol', 'Tajrish', 'Abazar', 'Koohsar', 'Hekmat',\n",
       "       'Parastar', 'Lavasan', 'Majidieh', 'Southern Chitgar', 'Karimkhan',\n",
       "       'Si Metri Ji', 'Karoon', 'Northern Chitgar', 'East Pars', 'Kook',\n",
       "       'Air force', 'Sohanak', 'Komeil', 'Azadshahr', 'Zibadasht',\n",
       "       'Amirabad', 'Dezashib', 'Elahieh', 'Mirdamad', 'Razi', 'Jordan',\n",
       "       'Mahmoudieh', 'Shahedshahr', 'Yaftabad', 'Mehran', 'Nasim Shahr',\n",
       "       'Tenant', 'Chardangeh', 'Fallah', 'Eskandari', 'Shahrakeh Naft',\n",
       "       'Ajudaniye', 'Tehransar', 'Nawab', 'Yousef Abad',\n",
       "       'Northern Suhrawardi', 'Villa', 'Hakimiyeh', 'Nezamabad',\n",
       "       'Garden of Saba', 'Tarasht', 'Azari', 'Shahrake Apadana', 'Araj',\n",
       "       'Vahidieh', 'Malard', 'Shahrake Azadi', 'Darband', 'Vanak',\n",
       "       'Tehran Now', 'Darabad', 'Eram', 'Atabak', 'Sabalan', 'SabaShahr',\n",
       "       'Shahrake Madaen', 'Waterfall', 'Ahang', 'Salehabad', 'Pishva',\n",
       "       'Enghelab', 'Islamshahr Elahieh', 'Ray - Montazeri',\n",
       "       'Firoozkooh Kuhsar', 'Ghoba', 'Mehrabad', 'Southern Suhrawardi',\n",
       "       'Abuzar', 'Dolatabad', 'Hor Square', 'Taslihat', 'Kazemabad',\n",
       "       'Robat Karim', 'Ray - Pilgosh', 'Ghiyamdasht', 'Telecommunication',\n",
       "       'Mirza Shirazi', 'Gandhi', 'Argentina', 'Seyed Khandan',\n",
       "       'Shahrake Quds', 'Safadasht', 'Khademabad Garden', 'Hassan Abad',\n",
       "       'Chidz', 'Khavaran', 'Boloorsazi', 'Mehrabad River River',\n",
       "       'Varamin - Beheshti', 'Shoosh', 'Thirteen November', 'Darakeh',\n",
       "       'Aliabad South', 'Alborz Complex', 'Firoozkooh', 'Vahidiyeh',\n",
       "       'Shadabad', 'Naziabad', 'Javadiyeh', 'Yakhchiabad'], dtype=object)"
      ]
     },
     "execution_count": 37,
     "metadata": {},
     "output_type": "execute_result"
    }
   ],
   "source": [
    "# TODO: Display the unique values of the 'Address' column in the dataset.\n",
    "data[\"Address\"].unique()"
   ]
  },
  {
   "cell_type": "code",
   "execution_count": 38,
   "metadata": {},
   "outputs": [
    {
     "data": {
      "text/plain": [
       "192"
      ]
     },
     "execution_count": 38,
     "metadata": {},
     "output_type": "execute_result"
    }
   ],
   "source": [
    "# TODO: Calculate and print the number of unique values in the 'Address' column of the dataset.\n",
    "data[\"Address\"].nunique()"
   ]
  },
  {
   "cell_type": "markdown",
   "metadata": {},
   "source": [
    "**Description**<br>\n",
    "\n",
    "Because we dont know that all names of addresses  have correct writing or human mistake has happened or not, we are going to \n",
    "remove any probable  problem in case of existance."
   ]
  },
  {
   "cell_type": "code",
   "execution_count": 39,
   "metadata": {},
   "outputs": [],
   "source": [
    "# TODO: Remove non-alphabetic characters from the 'Address' column in the dataset and display the first five rows.\n",
    "import warnings, math\n",
    "with warnings.catch_warnings():\n",
    "    warnings.simplefilter('ignore')\n",
    "    for i in range(data.shape[0]):\n",
    "        d = ''.join([i for i in data['Address'].loc[i] if i.isalpha()])\n",
    "        data['Address'].loc[i] = d"
   ]
  },
  {
   "cell_type": "code",
   "execution_count": 40,
   "metadata": {},
   "outputs": [
    {
     "name": "stdout",
     "output_type": "stream",
     "text": [
      "number of unique address values: 192\n",
      "unique address values:\n",
      " ['Shahran' 'Pardis' 'ShahrakeQods' 'ShahrakeGharb'\n",
      " 'NorthProgramOrganization' 'Andisheh' 'WestFerdowsBoulevard' 'Narmak'\n",
      " 'SaadatAbad' 'Zafar' 'Islamshahr' 'Pirouzi' 'ShahrakeShahidBagheri'\n",
      " 'Moniriyeh' 'Velenjak' 'Amirieh' 'SouthernJanatabad' 'Salsabil'\n",
      " 'Zargandeh' 'FeizGarden' 'WaterOrganization' 'ShahrAra' 'Gisha' 'Ray'\n",
      " 'Abbasabad' 'OstadMoein' 'Farmanieh' 'Parand' 'Punak' 'QasrodDasht'\n",
      " 'Aqdasieh' 'Pakdasht' 'Railway' 'CentralJanatabad' 'EastFerdowsBoulevard'\n",
      " 'PakdashtKhatunAbad' 'Sattarkhan' 'Baghestan' 'Shahryar'\n",
      " 'NorthernJanatabad' 'DaryanNo' 'SouthernProgramOrganization' 'Rudhen'\n",
      " 'WestPars' 'Afsarieh' 'Marzdaran' 'Dorous' 'Sadeghieh' 'Chahardangeh'\n",
      " 'Baqershahr' 'Jeyhoon' 'Lavizan' 'ShamsAbad' 'Fatemi'\n",
      " 'KeshavarzBoulevard' 'Kahrizak' 'Qarchak' 'NorthrenJamalzadeh'\n",
      " 'Azarbaijan' 'Bahar' 'PersianGulfMartyrsLake' 'Beryanak' 'Heshmatieh'\n",
      " 'ElmoSanat' 'Golestan' 'ShahreZiba' 'Pasdaran' 'Chardivari' 'Gheitarieh'\n",
      " 'Kamranieh' 'Gholhak' 'Heravi' 'Hashemi' 'DehkadeOlampic' 'Damavand'\n",
      " 'Republic' 'Zaferanieh' 'QazvinImamzadehHassan' 'Niavaran' 'Valiasr'\n",
      " 'Qalandari' 'AmirBahador' 'Ekhtiarieh' 'Ekbatan' 'Absard' 'HaftTir'\n",
      " 'Mahallati' 'Ozgol' 'Tajrish' 'Abazar' 'Koohsar' 'Hekmat' 'Parastar'\n",
      " 'Lavasan' 'Majidieh' 'SouthernChitgar' 'Karimkhan' 'SiMetriJi' 'Karoon'\n",
      " 'NorthernChitgar' 'EastPars' 'Kook' 'Airforce' 'Sohanak' 'Komeil'\n",
      " 'Azadshahr' 'Zibadasht' 'Amirabad' 'Dezashib' 'Elahieh' 'Mirdamad' 'Razi'\n",
      " 'Jordan' 'Mahmoudieh' 'Shahedshahr' 'Yaftabad' 'Mehran' 'NasimShahr'\n",
      " 'Tenant' 'Chardangeh' 'Fallah' 'Eskandari' 'ShahrakehNaft' 'Ajudaniye'\n",
      " 'Tehransar' 'Nawab' 'YousefAbad' 'NorthernSuhrawardi' 'Villa' 'Hakimiyeh'\n",
      " 'Nezamabad' 'GardenofSaba' 'Tarasht' 'Azari' 'ShahrakeApadana' 'Araj'\n",
      " 'Vahidieh' 'Malard' 'ShahrakeAzadi' 'Darband' 'Vanak' 'TehranNow'\n",
      " 'Darabad' 'Eram' 'Atabak' 'Sabalan' 'SabaShahr' 'ShahrakeMadaen'\n",
      " 'Waterfall' 'Ahang' 'Salehabad' 'Pishva' 'Enghelab' 'IslamshahrElahieh'\n",
      " 'RayMontazeri' 'FiroozkoohKuhsar' 'Ghoba' 'Mehrabad' 'SouthernSuhrawardi'\n",
      " 'Abuzar' 'Dolatabad' 'HorSquare' 'Taslihat' 'Kazemabad' 'RobatKarim'\n",
      " 'RayPilgosh' 'Ghiyamdasht' 'Telecommunication' 'MirzaShirazi' 'Gandhi'\n",
      " 'Argentina' 'SeyedKhandan' 'ShahrakeQuds' 'Safadasht' 'KhademabadGarden'\n",
      " 'HassanAbad' 'Chidz' 'Khavaran' 'Boloorsazi' 'MehrabadRiverRiver'\n",
      " 'VaraminBeheshti' 'Shoosh' 'ThirteenNovember' 'Darakeh' 'AliabadSouth'\n",
      " 'AlborzComplex' 'Firoozkooh' 'Vahidiyeh' 'Shadabad' 'Naziabad'\n",
      " 'Javadiyeh' 'Yakhchiabad']\n"
     ]
    }
   ],
   "source": [
    "# TODO: Calculate and print the number of unique values in the 'Address' column of the dataset after removing non-alphabetic characters.\n",
    "print(f\"number of unique address values: {data[\"Address\"].nunique()}\")\n",
    "print(f\"unique address values:\\n {data[\"Address\"].unique()}\")"
   ]
  },
  {
   "cell_type": "code",
   "execution_count": 41,
   "metadata": {},
   "outputs": [
    {
     "data": {
      "text/plain": [
       "Address\n",
       "Punak                   148\n",
       "WestFerdowsBoulevard    133\n",
       "Gheitarieh              133\n",
       "Shahran                 123\n",
       "Pardis                  123\n",
       "SaadatAbad              120\n",
       "Parand                  119\n",
       "ShahreZiba               91\n",
       "Jeyhoon                  88\n",
       "SouthernJanatabad        86\n",
       "Name: Address, dtype: int64"
      ]
     },
     "execution_count": 41,
     "metadata": {},
     "output_type": "execute_result"
    }
   ],
   "source": [
    "# TODO: Find and store the top 10 most frequently occurring values in the 'Address' column.\n",
    "address_filter = data.groupby(\"Address\")[\"Address\"].count().sort_values(ascending=False).head(10)\n",
    "address_filter"
   ]
  },
  {
   "cell_type": "code",
   "execution_count": 42,
   "metadata": {},
   "outputs": [
    {
     "data": {
      "text/plain": [
       "<Axes: xlabel='Address'>"
      ]
     },
     "execution_count": 42,
     "metadata": {},
     "output_type": "execute_result"
    },
    {
     "data": {
      "image/png": "[encoded data removed]",
      "text/plain": [
       "<Figure size 640x480 with 1 Axes>"
      ]
     },
     "metadata": {},
     "output_type": "display_data"
    }
   ],
   "source": [
    "# TODO: Visualize the top 10 most frequently occurring values in the 'Address' column using a bar plot.\n",
    "address_filter.plot(kind='bar')"
   ]
  },
  {
   "cell_type": "code",
   "execution_count": 43,
   "metadata": {},
   "outputs": [
    {
     "data": {
      "text/plain": [
       "Address\n",
       "Gandhi        7.000000e+10\n",
       "Lavasan       4.800000e+10\n",
       "Mahmoudieh    3.346667e+10\n",
       "Vanak         3.270000e+10\n",
       "Elahieh       2.678635e+10\n",
       "Argentina     2.516500e+10\n",
       "Zaferanieh    2.357515e+10\n",
       "Velenjak      2.138136e+10\n",
       "Farmanieh     2.066580e+10\n",
       "Niavaran      1.986027e+10\n",
       "Name: Price, dtype: float64"
      ]
     },
     "execution_count": 43,
     "metadata": {},
     "output_type": "execute_result"
    }
   ],
   "source": [
    "# TODO: Calculate the mean price for each unique address in the dataset and store the results. Identify and store the top 10 addresses with the highest mean price.\n",
    "mean_price = data.groupby(\"Address\")[\"Price\"].mean()\n",
    "mean_price_top10 = mean_price.sort_values(ascending=False).head(10)\n",
    "mean_price_top10"
   ]
  },
  {
   "cell_type": "code",
   "execution_count": 44,
   "metadata": {},
   "outputs": [
    {
     "data": {
      "text/plain": [
       "count          3248\n",
       "mean    -2147483648\n",
       "std     -2147483648\n",
       "min         3600000\n",
       "25%      1420000000\n",
       "50%     -2147483648\n",
       "75%     -2147483648\n",
       "max     -2147483648\n",
       "Name: Price, dtype: int32"
      ]
     },
     "execution_count": 44,
     "metadata": {},
     "output_type": "execute_result"
    }
   ],
   "source": [
    "# TODO: Calculate and round descriptive statistics for the 'Price' column in the dataset.\n",
    "data[\"Price\"].describe().astype(int)\n"
   ]
  },
  {
   "cell_type": "code",
   "execution_count": 45,
   "metadata": {},
   "outputs": [
    {
     "data": {
      "text/html": [
       "<div>\n",
       "<style scoped>\n",
       "    .dataframe tbody tr th:only-of-type {\n",
       "        vertical-align: middle;\n",
       "    }\n",
       "\n",
       "    .dataframe tbody tr th {\n",
       "        vertical-align: top;\n",
       "    }\n",
       "\n",
       "    .dataframe thead th {\n",
       "        text-align: right;\n",
       "    }\n",
       "</style>\n",
       "<table border=\"1\" class=\"dataframe\">\n",
       "  <thead>\n",
       "    <tr style=\"text-align: right;\">\n",
       "      <th></th>\n",
       "      <th>Area</th>\n",
       "      <th>Room</th>\n",
       "      <th>Parking</th>\n",
       "      <th>Warehouse</th>\n",
       "      <th>Elevator</th>\n",
       "      <th>Address</th>\n",
       "      <th>Price</th>\n",
       "      <th>Price(USD)</th>\n",
       "      <th>AreaSize</th>\n",
       "      <th>PriceLevel</th>\n",
       "    </tr>\n",
       "  </thead>\n",
       "  <tbody>\n",
       "    <tr>\n",
       "      <th>0</th>\n",
       "      <td>63.0</td>\n",
       "      <td>1</td>\n",
       "      <td>True</td>\n",
       "      <td>True</td>\n",
       "      <td>True</td>\n",
       "      <td>Shahran</td>\n",
       "      <td>1,850,000,000</td>\n",
       "      <td>61,666</td>\n",
       "      <td>AveUnderMean</td>\n",
       "      <td>AveUnderMean</td>\n",
       "    </tr>\n",
       "    <tr>\n",
       "      <th>1</th>\n",
       "      <td>60.0</td>\n",
       "      <td>1</td>\n",
       "      <td>True</td>\n",
       "      <td>True</td>\n",
       "      <td>True</td>\n",
       "      <td>Shahran</td>\n",
       "      <td>1,850,000,000</td>\n",
       "      <td>61,666</td>\n",
       "      <td>AveUnderMean</td>\n",
       "      <td>AveUnderMean</td>\n",
       "    </tr>\n",
       "    <tr>\n",
       "      <th>2</th>\n",
       "      <td>79.0</td>\n",
       "      <td>2</td>\n",
       "      <td>True</td>\n",
       "      <td>True</td>\n",
       "      <td>True</td>\n",
       "      <td>Pardis</td>\n",
       "      <td>550,000,000</td>\n",
       "      <td>18,333</td>\n",
       "      <td>AveUnderMean</td>\n",
       "      <td>cheap</td>\n",
       "    </tr>\n",
       "    <tr>\n",
       "      <th>3</th>\n",
       "      <td>95.0</td>\n",
       "      <td>2</td>\n",
       "      <td>True</td>\n",
       "      <td>True</td>\n",
       "      <td>True</td>\n",
       "      <td>ShahrakeQods</td>\n",
       "      <td>902,500,000</td>\n",
       "      <td>30,083</td>\n",
       "      <td>AveUpperMean</td>\n",
       "      <td>cheap</td>\n",
       "    </tr>\n",
       "    <tr>\n",
       "      <th>4</th>\n",
       "      <td>123.0</td>\n",
       "      <td>2</td>\n",
       "      <td>True</td>\n",
       "      <td>True</td>\n",
       "      <td>True</td>\n",
       "      <td>ShahrakeGharb</td>\n",
       "      <td>7,000,000,000</td>\n",
       "      <td>233,333</td>\n",
       "      <td>High</td>\n",
       "      <td>Expensive</td>\n",
       "    </tr>\n",
       "    <tr>\n",
       "      <th>...</th>\n",
       "      <td>...</td>\n",
       "      <td>...</td>\n",
       "      <td>...</td>\n",
       "      <td>...</td>\n",
       "      <td>...</td>\n",
       "      <td>...</td>\n",
       "      <td>...</td>\n",
       "      <td>...</td>\n",
       "      <td>...</td>\n",
       "      <td>...</td>\n",
       "    </tr>\n",
       "    <tr>\n",
       "      <th>3243</th>\n",
       "      <td>63.0</td>\n",
       "      <td>1</td>\n",
       "      <td>True</td>\n",
       "      <td>True</td>\n",
       "      <td>False</td>\n",
       "      <td>FeizGarden</td>\n",
       "      <td>1,890,000,000</td>\n",
       "      <td>63,000</td>\n",
       "      <td>AveUnderMean</td>\n",
       "      <td>AveUnderMean</td>\n",
       "    </tr>\n",
       "    <tr>\n",
       "      <th>3244</th>\n",
       "      <td>86.0</td>\n",
       "      <td>2</td>\n",
       "      <td>True</td>\n",
       "      <td>True</td>\n",
       "      <td>True</td>\n",
       "      <td>SouthernJanatabad</td>\n",
       "      <td>3,500,000,000</td>\n",
       "      <td>116,666</td>\n",
       "      <td>AveUnderMean</td>\n",
       "      <td>AveUpperMean</td>\n",
       "    </tr>\n",
       "    <tr>\n",
       "      <th>3245</th>\n",
       "      <td>83.0</td>\n",
       "      <td>2</td>\n",
       "      <td>True</td>\n",
       "      <td>True</td>\n",
       "      <td>True</td>\n",
       "      <td>Niavaran</td>\n",
       "      <td>6,800,000,000</td>\n",
       "      <td>226,666</td>\n",
       "      <td>AveUnderMean</td>\n",
       "      <td>Expensive</td>\n",
       "    </tr>\n",
       "    <tr>\n",
       "      <th>3246</th>\n",
       "      <td>105.0</td>\n",
       "      <td>2</td>\n",
       "      <td>True</td>\n",
       "      <td>True</td>\n",
       "      <td>True</td>\n",
       "      <td>Dorous</td>\n",
       "      <td>5,600,000,000</td>\n",
       "      <td>186,666</td>\n",
       "      <td>AveUpperMean</td>\n",
       "      <td>AveUpperMean</td>\n",
       "    </tr>\n",
       "    <tr>\n",
       "      <th>3247</th>\n",
       "      <td>82.0</td>\n",
       "      <td>2</td>\n",
       "      <td>False</td>\n",
       "      <td>True</td>\n",
       "      <td>True</td>\n",
       "      <td>Parand</td>\n",
       "      <td>360,000,000</td>\n",
       "      <td>12,000</td>\n",
       "      <td>AveUnderMean</td>\n",
       "      <td>cheap</td>\n",
       "    </tr>\n",
       "  </tbody>\n",
       "</table>\n",
       "<p>3248 rows × 10 columns</p>\n",
       "</div>"
      ],
      "text/plain": [
       "       Area  Room  Parking  Warehouse  Elevator            Address  \\\n",
       "0      63.0     1     True       True      True            Shahran   \n",
       "1      60.0     1     True       True      True            Shahran   \n",
       "2      79.0     2     True       True      True             Pardis   \n",
       "3      95.0     2     True       True      True       ShahrakeQods   \n",
       "4     123.0     2     True       True      True      ShahrakeGharb   \n",
       "...     ...   ...      ...        ...       ...                ...   \n",
       "3243   63.0     1     True       True     False         FeizGarden   \n",
       "3244   86.0     2     True       True      True  SouthernJanatabad   \n",
       "3245   83.0     2     True       True      True           Niavaran   \n",
       "3246  105.0     2     True       True      True             Dorous   \n",
       "3247   82.0     2    False       True      True             Parand   \n",
       "\n",
       "              Price Price(USD)      AreaSize    PriceLevel  \n",
       "0     1,850,000,000     61,666  AveUnderMean  AveUnderMean  \n",
       "1     1,850,000,000     61,666  AveUnderMean  AveUnderMean  \n",
       "2       550,000,000     18,333  AveUnderMean         cheap  \n",
       "3       902,500,000     30,083  AveUpperMean         cheap  \n",
       "4     7,000,000,000    233,333          High     Expensive  \n",
       "...             ...        ...           ...           ...  \n",
       "3243  1,890,000,000     63,000  AveUnderMean  AveUnderMean  \n",
       "3244  3,500,000,000    116,666  AveUnderMean  AveUpperMean  \n",
       "3245  6,800,000,000    226,666  AveUnderMean     Expensive  \n",
       "3246  5,600,000,000    186,666  AveUpperMean  AveUpperMean  \n",
       "3247    360,000,000     12,000  AveUnderMean         cheap  \n",
       "\n",
       "[3248 rows x 10 columns]"
      ]
     },
     "execution_count": 45,
     "metadata": {},
     "output_type": "execute_result"
    }
   ],
   "source": [
    "# TODO: Create a copy of the dataset and format the 'Price' and 'Price(USD)' columns to display values with comma separators and no decimal places.\n",
    "data2 = data.copy()\n",
    "with warnings.catch_warnings():\n",
    "    warnings.simplefilter('ignore')\n",
    "    for i in range(len(data2)):\n",
    "        data2[\"Price\"].loc[i] =  f'{int(data2[\"Price\"].loc[i]):,}' \n",
    "        data2[\"Price(USD)\"].loc[i] =  f'{int(data2[\"Price(USD)\"].loc[i]):,}'\n",
    "data2"
   ]
  },
  {
   "cell_type": "markdown",
   "metadata": {},
   "source": [
    "**Description**<br>\n",
    "* we create new variable to avoid changing the type of Price from numeric to object .\n",
    "* Price and Price(USD) are easily readable now . "
   ]
  },
  {
   "cell_type": "code",
   "execution_count": 46,
   "metadata": {},
   "outputs": [
    {
     "data": {
      "text/plain": [
       "<Axes: >"
      ]
     },
     "execution_count": 46,
     "metadata": {},
     "output_type": "execute_result"
    },
    {
     "data": {
      "image/png": "[encoded data removed]",
      "text/plain": [
       "<Figure size 640x480 with 2 Axes>"
      ]
     },
     "metadata": {},
     "output_type": "display_data"
    }
   ],
   "source": [
    "# TODO: Create a heatmap to visualize the correlation matrix of numerical columns in the dataset, including annotations, using the 'summer' colormap and setting the format of annotations to one decimal place.\n",
    "corr = data[[\"Area\",\"Room\",\"Parking\",\"Warehouse\",\"Elevator\",\"Price\",\"Price(USD)\"]].corr()\n",
    "sns.heatmap(corr, cmap='summer', annot=True, fmt='.1f')"
   ]
  },
  {
   "cell_type": "code",
   "execution_count": 47,
   "metadata": {},
   "outputs": [
    {
     "data": {
      "text/plain": [
       "<Axes: ylabel='Price'>"
      ]
     },
     "execution_count": 47,
     "metadata": {},
     "output_type": "execute_result"
    },
    {
     "data": {
      "image/png": "[encoded data removed]",
      "text/plain": [
       "<Figure size 640x480 with 1 Axes>"
      ]
     },
     "metadata": {},
     "output_type": "display_data"
    }
   ],
   "source": [
    "# TODO: Visualize the distribution of prices from the dataset using a boxplot.\n",
    "sns.boxplot(data[\"Price\"])"
   ]
  },
  {
   "cell_type": "code",
   "execution_count": 48,
   "metadata": {},
   "outputs": [
    {
     "data": {
      "text/plain": [
       "Room          0.639616\n",
       "Parking      -1.908891\n",
       "Warehouse    -2.956962\n",
       "Elevator     -1.391037\n",
       "Price         4.727793\n",
       "Price(USD)    4.727793\n",
       "dtype: float64"
      ]
     },
     "execution_count": 48,
     "metadata": {},
     "output_type": "execute_result"
    }
   ],
   "source": [
    "# TODO: Calculate the skewness of each numerical column in the dataset.\n",
    "data.skew(axis=0, numeric_only=True)"
   ]
  },
  {
   "cell_type": "markdown",
   "metadata": {},
   "source": [
    "**Description**<br>\n",
    "\n",
    "What are outliers in dataset ?\n",
    "\n",
    "Answer : Outliers are values at the extreme ends of a dataset.\n",
    "\n",
    "One of the best method to find out outliers : **Interquartile range method** \n",
    "\n",
    "Interquartile range method:\n",
    "\n",
    "1: Sort your data from low to high<br>\n",
    "2: Identify the `first quartile` (Q1), the `median`, and the `third quartile` (Q3).<br>\n",
    "3: Calculate your `IQR = Q3 – Q1`<br>\n",
    "4: Calculate your upper fence = `Q3 + (1.5 * IQR)`<br>\n",
    "5: Calculate your lower fence = `Q1 – (1.5 * IQR)`<br>\n",
    "6: Use your fences to highlight any outliers, all values that fall outside your fences.<br>\n",
    "7: Your outliers are any values **greater than your upper fence or less than your lower fence**.<br>\n"
   ]
  },
  {
   "cell_type": "code",
   "execution_count": 49,
   "metadata": {},
   "outputs": [],
   "source": [
    "# TODO: Define a function named \"Interquartile_Range\" that calculates the interquartile range (IQR) and fences for outlier detection for a given dataframe and target column.\n",
    "def Interquartile_Range(df,col):\n",
    "    q1 = data[col].quantile(0.25)\n",
    "    q3 = data[col].quantile(0.75)\n",
    "    IQR = q3-q1\n",
    "    u_fence = q3+(1.5 * IQR)\n",
    "    l_fence = q1-(1.5 * IQR)\n",
    "    return u_fence, l_fence"
   ]
  },
  {
   "cell_type": "code",
   "execution_count": 50,
   "metadata": {},
   "outputs": [
    {
     "name": "stdout",
     "output_type": "stream",
     "text": [
      "Price Upper Fence: 13370000000.0\n",
      "Price Lower Fence: -5750000000.0\n",
      "\n",
      "Area Upper Fence: 200.0\n",
      "Area Upper Fence: -8.0\n"
     ]
    }
   ],
   "source": [
    "# TODO: Use the \"Interquartile_Range\" function to calculate the interquartile range (IQR) and fences for the 'Price' and 'Area' columns in the dataset.\n",
    "u_price, l_price = Interquartile_Range(data,'Price')\n",
    "print(f\"Price Upper Fence: {u_price}\\nPrice Lower Fence: {l_price}\")\n",
    "\n",
    "u_Area, l_Area = Interquartile_Range(data,'Area')\n",
    "print(f\"\\nArea Upper Fence: {u_Area}\\nArea Upper Fence: {l_Area}\")"
   ]
  },
  {
   "cell_type": "markdown",
   "metadata": {},
   "source": [
    "**Description**<br>\n",
    "* It must be considered that most outliers are on the right side dut to **Right_skewed** <br>\n",
    "so , we need to remove outliers on the right(Upper_Fence)\n",
    "\n",
    "* Among all the features , two of them have noticeable effect : **Area** and **Price** <br>\n",
    "We cant find out outliers from  (Room , Parking , Warehouse ,Elevator) features.<br>\n",
    "It's better to find out outliers first from Price , second Area"
   ]
  },
  {
   "cell_type": "code",
   "execution_count": 51,
   "metadata": {},
   "outputs": [],
   "source": [
    "# TODO: Define upper fence values for the 'Price' and 'Area' columns. Identify and store the indices of data points exceeding these upper fences.\n",
    "price_exceeding = data[data['Price']>u_price]\n",
    "area_exceeding = data[data[\"Area\"]>u_Area]\n",
    "price_exceeding_index = price_exceeding.index\n",
    "area_exceeding_index = area_exceeding.index"
   ]
  },
  {
   "cell_type": "markdown",
   "metadata": {},
   "source": [
    "**Description**<br>\n",
    "\n",
    "* We can use of a method and add all the Outliers which are greater than UpperFence for both Price and Area and then <br>\n",
    "eliminate them from our Dataset(but in a new variable)"
   ]
  },
  {
   "cell_type": "code",
   "execution_count": 52,
   "metadata": {},
   "outputs": [
    {
     "name": "stdout",
     "output_type": "stream",
     "text": [
      "Total number of outliers: 145\n",
      "Percentage of outliers: 4.464285714285714\n"
     ]
    },
    {
     "data": {
      "text/html": [
       "<div>\n",
       "<style scoped>\n",
       "    .dataframe tbody tr th:only-of-type {\n",
       "        vertical-align: middle;\n",
       "    }\n",
       "\n",
       "    .dataframe tbody tr th {\n",
       "        vertical-align: top;\n",
       "    }\n",
       "\n",
       "    .dataframe thead th {\n",
       "        text-align: right;\n",
       "    }\n",
       "</style>\n",
       "<table border=\"1\" class=\"dataframe\">\n",
       "  <thead>\n",
       "    <tr style=\"text-align: right;\">\n",
       "      <th></th>\n",
       "      <th>Area</th>\n",
       "      <th>Room</th>\n",
       "      <th>Parking</th>\n",
       "      <th>Warehouse</th>\n",
       "      <th>Elevator</th>\n",
       "      <th>Address</th>\n",
       "      <th>Price</th>\n",
       "      <th>Price(USD)</th>\n",
       "      <th>AreaSize</th>\n",
       "      <th>PriceLevel</th>\n",
       "    </tr>\n",
       "  </thead>\n",
       "  <tbody>\n",
       "    <tr>\n",
       "      <th>152</th>\n",
       "      <td>245.0</td>\n",
       "      <td>3</td>\n",
       "      <td>True</td>\n",
       "      <td>True</td>\n",
       "      <td>True</td>\n",
       "      <td>Farmanieh</td>\n",
       "      <td>2.695000e+10</td>\n",
       "      <td>898333.33</td>\n",
       "      <td>High</td>\n",
       "      <td>Expensive</td>\n",
       "    </tr>\n",
       "    <tr>\n",
       "      <th>166</th>\n",
       "      <td>236.0</td>\n",
       "      <td>4</td>\n",
       "      <td>True</td>\n",
       "      <td>True</td>\n",
       "      <td>True</td>\n",
       "      <td>Gheitarieh</td>\n",
       "      <td>2.000000e+10</td>\n",
       "      <td>666666.67</td>\n",
       "      <td>High</td>\n",
       "      <td>Expensive</td>\n",
       "    </tr>\n",
       "    <tr>\n",
       "      <th>169</th>\n",
       "      <td>220.0</td>\n",
       "      <td>3</td>\n",
       "      <td>True</td>\n",
       "      <td>True</td>\n",
       "      <td>True</td>\n",
       "      <td>Heravi</td>\n",
       "      <td>1.540000e+10</td>\n",
       "      <td>513333.33</td>\n",
       "      <td>High</td>\n",
       "      <td>Expensive</td>\n",
       "    </tr>\n",
       "    <tr>\n",
       "      <th>182</th>\n",
       "      <td>320.0</td>\n",
       "      <td>4</td>\n",
       "      <td>True</td>\n",
       "      <td>True</td>\n",
       "      <td>True</td>\n",
       "      <td>SaadatAbad</td>\n",
       "      <td>2.400000e+10</td>\n",
       "      <td>800000.00</td>\n",
       "      <td>High</td>\n",
       "      <td>Expensive</td>\n",
       "    </tr>\n",
       "    <tr>\n",
       "      <th>188</th>\n",
       "      <td>210.0</td>\n",
       "      <td>3</td>\n",
       "      <td>True</td>\n",
       "      <td>True</td>\n",
       "      <td>True</td>\n",
       "      <td>Pasdaran</td>\n",
       "      <td>1.575000e+10</td>\n",
       "      <td>525000.00</td>\n",
       "      <td>High</td>\n",
       "      <td>Expensive</td>\n",
       "    </tr>\n",
       "  </tbody>\n",
       "</table>\n",
       "</div>"
      ],
      "text/plain": [
       "      Area  Room  Parking  Warehouse  Elevator     Address         Price  \\\n",
       "152  245.0     3     True       True      True   Farmanieh  2.695000e+10   \n",
       "166  236.0     4     True       True      True  Gheitarieh  2.000000e+10   \n",
       "169  220.0     3     True       True      True      Heravi  1.540000e+10   \n",
       "182  320.0     4     True       True      True  SaadatAbad  2.400000e+10   \n",
       "188  210.0     3     True       True      True    Pasdaran  1.575000e+10   \n",
       "\n",
       "     Price(USD) AreaSize PriceLevel  \n",
       "152   898333.33     High  Expensive  \n",
       "166   666666.67     High  Expensive  \n",
       "169   513333.33     High  Expensive  \n",
       "182   800000.00     High  Expensive  \n",
       "188   525000.00     High  Expensive  "
      ]
     },
     "execution_count": 52,
     "metadata": {},
     "output_type": "execute_result"
    }
   ],
   "source": [
    "# TODO: Combine the indices of outliers identified for both 'Price' and 'Area' columns. Print the total number and percentage of outliers. Display the first five rows of the dataset for these outliers.\n",
    "outlier_index = list(set(price_exceeding_index).intersection(area_exceeding_index))\n",
    "print(f\"Total number of outliers: {len(outlier_index)}\\nPercentage of outliers: {len(outlier_index)/len(data)*100}\")\n",
    "data.loc[outlier_index].sort_index().head()"
   ]
  },
  {
   "cell_type": "code",
   "execution_count": 53,
   "metadata": {},
   "outputs": [
    {
     "name": "stdout",
     "output_type": "stream",
     "text": [
      "The shape of prepared dataset is: 3103\n"
     ]
    },
    {
     "data": {
      "text/html": [
       "<div>\n",
       "<style scoped>\n",
       "    .dataframe tbody tr th:only-of-type {\n",
       "        vertical-align: middle;\n",
       "    }\n",
       "\n",
       "    .dataframe tbody tr th {\n",
       "        vertical-align: top;\n",
       "    }\n",
       "\n",
       "    .dataframe thead th {\n",
       "        text-align: right;\n",
       "    }\n",
       "</style>\n",
       "<table border=\"1\" class=\"dataframe\">\n",
       "  <thead>\n",
       "    <tr style=\"text-align: right;\">\n",
       "      <th></th>\n",
       "      <th>Area</th>\n",
       "      <th>Room</th>\n",
       "      <th>Parking</th>\n",
       "      <th>Warehouse</th>\n",
       "      <th>Elevator</th>\n",
       "      <th>Address</th>\n",
       "      <th>Price</th>\n",
       "      <th>Price(USD)</th>\n",
       "      <th>AreaSize</th>\n",
       "      <th>PriceLevel</th>\n",
       "    </tr>\n",
       "  </thead>\n",
       "  <tbody>\n",
       "    <tr>\n",
       "      <th>0</th>\n",
       "      <td>63.0</td>\n",
       "      <td>1</td>\n",
       "      <td>True</td>\n",
       "      <td>True</td>\n",
       "      <td>True</td>\n",
       "      <td>Shahran</td>\n",
       "      <td>1.850000e+09</td>\n",
       "      <td>61666.67</td>\n",
       "      <td>AveUnderMean</td>\n",
       "      <td>AveUnderMean</td>\n",
       "    </tr>\n",
       "    <tr>\n",
       "      <th>1</th>\n",
       "      <td>60.0</td>\n",
       "      <td>1</td>\n",
       "      <td>True</td>\n",
       "      <td>True</td>\n",
       "      <td>True</td>\n",
       "      <td>Shahran</td>\n",
       "      <td>1.850000e+09</td>\n",
       "      <td>61666.67</td>\n",
       "      <td>AveUnderMean</td>\n",
       "      <td>AveUnderMean</td>\n",
       "    </tr>\n",
       "    <tr>\n",
       "      <th>2</th>\n",
       "      <td>79.0</td>\n",
       "      <td>2</td>\n",
       "      <td>True</td>\n",
       "      <td>True</td>\n",
       "      <td>True</td>\n",
       "      <td>Pardis</td>\n",
       "      <td>5.500000e+08</td>\n",
       "      <td>18333.33</td>\n",
       "      <td>AveUnderMean</td>\n",
       "      <td>cheap</td>\n",
       "    </tr>\n",
       "    <tr>\n",
       "      <th>3</th>\n",
       "      <td>95.0</td>\n",
       "      <td>2</td>\n",
       "      <td>True</td>\n",
       "      <td>True</td>\n",
       "      <td>True</td>\n",
       "      <td>ShahrakeQods</td>\n",
       "      <td>9.025000e+08</td>\n",
       "      <td>30083.33</td>\n",
       "      <td>AveUpperMean</td>\n",
       "      <td>cheap</td>\n",
       "    </tr>\n",
       "    <tr>\n",
       "      <th>4</th>\n",
       "      <td>123.0</td>\n",
       "      <td>2</td>\n",
       "      <td>True</td>\n",
       "      <td>True</td>\n",
       "      <td>True</td>\n",
       "      <td>ShahrakeGharb</td>\n",
       "      <td>7.000000e+09</td>\n",
       "      <td>233333.33</td>\n",
       "      <td>High</td>\n",
       "      <td>Expensive</td>\n",
       "    </tr>\n",
       "  </tbody>\n",
       "</table>\n",
       "</div>"
      ],
      "text/plain": [
       "    Area  Room  Parking  Warehouse  Elevator        Address         Price  \\\n",
       "0   63.0     1     True       True      True        Shahran  1.850000e+09   \n",
       "1   60.0     1     True       True      True        Shahran  1.850000e+09   \n",
       "2   79.0     2     True       True      True         Pardis  5.500000e+08   \n",
       "3   95.0     2     True       True      True   ShahrakeQods  9.025000e+08   \n",
       "4  123.0     2     True       True      True  ShahrakeGharb  7.000000e+09   \n",
       "\n",
       "   Price(USD)      AreaSize    PriceLevel  \n",
       "0    61666.67  AveUnderMean  AveUnderMean  \n",
       "1    61666.67  AveUnderMean  AveUnderMean  \n",
       "2    18333.33  AveUnderMean         cheap  \n",
       "3    30083.33  AveUpperMean         cheap  \n",
       "4   233333.33          High     Expensive  "
      ]
     },
     "execution_count": 53,
     "metadata": {},
     "output_type": "execute_result"
    }
   ],
   "source": [
    "# TODO: Remove rows identified as outliers from the dataset and print the shape of the prepared dataset. Display the first five rows of the prepared dataset.\n",
    "data_prepared = data.drop(outlier_index)\n",
    "print(f\"The shape of prepared dataset is: {len(data_prepared)}\")\n",
    "data_prepared.head()"
   ]
  },
  {
   "cell_type": "code",
   "execution_count": 54,
   "metadata": {},
   "outputs": [
    {
     "data": {
      "text/plain": [
       "<Axes: ylabel='Price'>"
      ]
     },
     "execution_count": 54,
     "metadata": {},
     "output_type": "execute_result"
    },
    {
     "data": {
      "image/png": "[encoded data removed]",
      "text/plain": [
       "<Figure size 640x480 with 1 Axes>"
      ]
     },
     "metadata": {},
     "output_type": "display_data"
    }
   ],
   "source": [
    "# TODO: Visualize the distribution of prices from the prepared dataset without outliers using a boxplot.\n",
    "sns.boxplot(data_prepared[\"Price\"])"
   ]
  },
  {
   "cell_type": "code",
   "execution_count": 55,
   "metadata": {},
   "outputs": [
    {
     "data": {
      "text/plain": [
       "Room          0.376087\n",
       "Parking      -1.847529\n",
       "Warehouse    -2.896375\n",
       "Elevator     -1.381509\n",
       "Price         2.273048\n",
       "Price(USD)    2.273048\n",
       "dtype: float64"
      ]
     },
     "execution_count": 55,
     "metadata": {},
     "output_type": "execute_result"
    }
   ],
   "source": [
    "# TODO: Calculate the skewness of each numerical column in the prepared dataset without outliers.\n",
    "data_prepared.skew(axis=0, numeric_only=True)"
   ]
  },
  {
   "cell_type": "markdown",
   "metadata": {},
   "source": [
    "**Description**<br>\n",
    "\n",
    "* Now we have more balanced data and its ready to be used for fitting.\n",
    "* Due to we have dropped lots of data from dataset we can use of both(with outliers and without) to check the \n",
    "accuracy for each one ."
   ]
  }
 ],
 "metadata": {
  "colab": {
   "provenance": []
  },
  "kernelspec": {
   "display_name": "Python 3 (ipykernel)",
   "language": "python",
   "name": "python3"
  },
  "language_info": {
   "codemirror_mode": {
    "name": "ipython",
    "version": 3
   },
   "file_extension": ".py",
   "mimetype": "text/x-python",
   "name": "python",
   "nbconvert_exporter": "python",
   "pygments_lexer": "ipython3",
   "version": "3.12.1"
  }
 },
 "nbformat": 4,
 "nbformat_minor": 4
}
